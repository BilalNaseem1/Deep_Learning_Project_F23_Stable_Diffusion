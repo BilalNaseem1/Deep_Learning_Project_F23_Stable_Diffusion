{
  "nbformat": 4,
  "nbformat_minor": 0,
  "metadata": {
    "colab": {
      "provenance": [],
      "gpuType": "T4"
    },
    "kernelspec": {
      "name": "python3",
      "display_name": "Python 3"
    },
    "language_info": {
      "name": "python"
    },
    "accelerator": "GPU",
    "widgets": {
      "application/vnd.jupyter.widget-state+json": {
        "00117eaba55e4a53a1cb6092fbb129bc": {
          "model_module": "@jupyter-widgets/controls",
          "model_name": "HBoxModel",
          "model_module_version": "1.5.0",
          "state": {
            "_dom_classes": [],
            "_model_module": "@jupyter-widgets/controls",
            "_model_module_version": "1.5.0",
            "_model_name": "HBoxModel",
            "_view_count": null,
            "_view_module": "@jupyter-widgets/controls",
            "_view_module_version": "1.5.0",
            "_view_name": "HBoxView",
            "box_style": "",
            "children": [
              "IPY_MODEL_299df103a98643b2ba49eb0b82f08851",
              "IPY_MODEL_27853e1342f549e696918f4b3a64eb6d",
              "IPY_MODEL_06b2031eb2d34c29a9911aae756a08a5"
            ],
            "layout": "IPY_MODEL_c78569ba56914e7785352595be5388ec"
          }
        },
        "299df103a98643b2ba49eb0b82f08851": {
          "model_module": "@jupyter-widgets/controls",
          "model_name": "HTMLModel",
          "model_module_version": "1.5.0",
          "state": {
            "_dom_classes": [],
            "_model_module": "@jupyter-widgets/controls",
            "_model_module_version": "1.5.0",
            "_model_name": "HTMLModel",
            "_view_count": null,
            "_view_module": "@jupyter-widgets/controls",
            "_view_module_version": "1.5.0",
            "_view_name": "HTMLView",
            "description": "",
            "description_tooltip": null,
            "layout": "IPY_MODEL_170979b268444b95acdc27058c8d7ebb",
            "placeholder": "​",
            "style": "IPY_MODEL_13000b40042c4f37ab37d0fe9f9ba990",
            "value": "sd_xl_base_1.0_0.9vae.safetensors: 100%"
          }
        },
        "27853e1342f549e696918f4b3a64eb6d": {
          "model_module": "@jupyter-widgets/controls",
          "model_name": "FloatProgressModel",
          "model_module_version": "1.5.0",
          "state": {
            "_dom_classes": [],
            "_model_module": "@jupyter-widgets/controls",
            "_model_module_version": "1.5.0",
            "_model_name": "FloatProgressModel",
            "_view_count": null,
            "_view_module": "@jupyter-widgets/controls",
            "_view_module_version": "1.5.0",
            "_view_name": "ProgressView",
            "bar_style": "success",
            "description": "",
            "description_tooltip": null,
            "layout": "IPY_MODEL_2297f450a81c42fea9f5a31a68dec929",
            "max": 6938078334,
            "min": 0,
            "orientation": "horizontal",
            "style": "IPY_MODEL_c3fd3e44aa9947e39f4fbc2026d421d0",
            "value": 6938078334
          }
        },
        "06b2031eb2d34c29a9911aae756a08a5": {
          "model_module": "@jupyter-widgets/controls",
          "model_name": "HTMLModel",
          "model_module_version": "1.5.0",
          "state": {
            "_dom_classes": [],
            "_model_module": "@jupyter-widgets/controls",
            "_model_module_version": "1.5.0",
            "_model_name": "HTMLModel",
            "_view_count": null,
            "_view_module": "@jupyter-widgets/controls",
            "_view_module_version": "1.5.0",
            "_view_name": "HTMLView",
            "description": "",
            "description_tooltip": null,
            "layout": "IPY_MODEL_8b1ed1f598a9437fa57028f8ed885f0d",
            "placeholder": "​",
            "style": "IPY_MODEL_96ba0bc6a5af4e2797538f5f2e4ab939",
            "value": " 6.94G/6.94G [00:53&lt;00:00, 88.1MB/s]"
          }
        },
        "c78569ba56914e7785352595be5388ec": {
          "model_module": "@jupyter-widgets/base",
          "model_name": "LayoutModel",
          "model_module_version": "1.2.0",
          "state": {
            "_model_module": "@jupyter-widgets/base",
            "_model_module_version": "1.2.0",
            "_model_name": "LayoutModel",
            "_view_count": null,
            "_view_module": "@jupyter-widgets/base",
            "_view_module_version": "1.2.0",
            "_view_name": "LayoutView",
            "align_content": null,
            "align_items": null,
            "align_self": null,
            "border": null,
            "bottom": null,
            "display": null,
            "flex": null,
            "flex_flow": null,
            "grid_area": null,
            "grid_auto_columns": null,
            "grid_auto_flow": null,
            "grid_auto_rows": null,
            "grid_column": null,
            "grid_gap": null,
            "grid_row": null,
            "grid_template_areas": null,
            "grid_template_columns": null,
            "grid_template_rows": null,
            "height": null,
            "justify_content": null,
            "justify_items": null,
            "left": null,
            "margin": null,
            "max_height": null,
            "max_width": null,
            "min_height": null,
            "min_width": null,
            "object_fit": null,
            "object_position": null,
            "order": null,
            "overflow": null,
            "overflow_x": null,
            "overflow_y": null,
            "padding": null,
            "right": null,
            "top": null,
            "visibility": null,
            "width": null
          }
        },
        "170979b268444b95acdc27058c8d7ebb": {
          "model_module": "@jupyter-widgets/base",
          "model_name": "LayoutModel",
          "model_module_version": "1.2.0",
          "state": {
            "_model_module": "@jupyter-widgets/base",
            "_model_module_version": "1.2.0",
            "_model_name": "LayoutModel",
            "_view_count": null,
            "_view_module": "@jupyter-widgets/base",
            "_view_module_version": "1.2.0",
            "_view_name": "LayoutView",
            "align_content": null,
            "align_items": null,
            "align_self": null,
            "border": null,
            "bottom": null,
            "display": null,
            "flex": null,
            "flex_flow": null,
            "grid_area": null,
            "grid_auto_columns": null,
            "grid_auto_flow": null,
            "grid_auto_rows": null,
            "grid_column": null,
            "grid_gap": null,
            "grid_row": null,
            "grid_template_areas": null,
            "grid_template_columns": null,
            "grid_template_rows": null,
            "height": null,
            "justify_content": null,
            "justify_items": null,
            "left": null,
            "margin": null,
            "max_height": null,
            "max_width": null,
            "min_height": null,
            "min_width": null,
            "object_fit": null,
            "object_position": null,
            "order": null,
            "overflow": null,
            "overflow_x": null,
            "overflow_y": null,
            "padding": null,
            "right": null,
            "top": null,
            "visibility": null,
            "width": null
          }
        },
        "13000b40042c4f37ab37d0fe9f9ba990": {
          "model_module": "@jupyter-widgets/controls",
          "model_name": "DescriptionStyleModel",
          "model_module_version": "1.5.0",
          "state": {
            "_model_module": "@jupyter-widgets/controls",
            "_model_module_version": "1.5.0",
            "_model_name": "DescriptionStyleModel",
            "_view_count": null,
            "_view_module": "@jupyter-widgets/base",
            "_view_module_version": "1.2.0",
            "_view_name": "StyleView",
            "description_width": ""
          }
        },
        "2297f450a81c42fea9f5a31a68dec929": {
          "model_module": "@jupyter-widgets/base",
          "model_name": "LayoutModel",
          "model_module_version": "1.2.0",
          "state": {
            "_model_module": "@jupyter-widgets/base",
            "_model_module_version": "1.2.0",
            "_model_name": "LayoutModel",
            "_view_count": null,
            "_view_module": "@jupyter-widgets/base",
            "_view_module_version": "1.2.0",
            "_view_name": "LayoutView",
            "align_content": null,
            "align_items": null,
            "align_self": null,
            "border": null,
            "bottom": null,
            "display": null,
            "flex": null,
            "flex_flow": null,
            "grid_area": null,
            "grid_auto_columns": null,
            "grid_auto_flow": null,
            "grid_auto_rows": null,
            "grid_column": null,
            "grid_gap": null,
            "grid_row": null,
            "grid_template_areas": null,
            "grid_template_columns": null,
            "grid_template_rows": null,
            "height": null,
            "justify_content": null,
            "justify_items": null,
            "left": null,
            "margin": null,
            "max_height": null,
            "max_width": null,
            "min_height": null,
            "min_width": null,
            "object_fit": null,
            "object_position": null,
            "order": null,
            "overflow": null,
            "overflow_x": null,
            "overflow_y": null,
            "padding": null,
            "right": null,
            "top": null,
            "visibility": null,
            "width": null
          }
        },
        "c3fd3e44aa9947e39f4fbc2026d421d0": {
          "model_module": "@jupyter-widgets/controls",
          "model_name": "ProgressStyleModel",
          "model_module_version": "1.5.0",
          "state": {
            "_model_module": "@jupyter-widgets/controls",
            "_model_module_version": "1.5.0",
            "_model_name": "ProgressStyleModel",
            "_view_count": null,
            "_view_module": "@jupyter-widgets/base",
            "_view_module_version": "1.2.0",
            "_view_name": "StyleView",
            "bar_color": null,
            "description_width": ""
          }
        },
        "8b1ed1f598a9437fa57028f8ed885f0d": {
          "model_module": "@jupyter-widgets/base",
          "model_name": "LayoutModel",
          "model_module_version": "1.2.0",
          "state": {
            "_model_module": "@jupyter-widgets/base",
            "_model_module_version": "1.2.0",
            "_model_name": "LayoutModel",
            "_view_count": null,
            "_view_module": "@jupyter-widgets/base",
            "_view_module_version": "1.2.0",
            "_view_name": "LayoutView",
            "align_content": null,
            "align_items": null,
            "align_self": null,
            "border": null,
            "bottom": null,
            "display": null,
            "flex": null,
            "flex_flow": null,
            "grid_area": null,
            "grid_auto_columns": null,
            "grid_auto_flow": null,
            "grid_auto_rows": null,
            "grid_column": null,
            "grid_gap": null,
            "grid_row": null,
            "grid_template_areas": null,
            "grid_template_columns": null,
            "grid_template_rows": null,
            "height": null,
            "justify_content": null,
            "justify_items": null,
            "left": null,
            "margin": null,
            "max_height": null,
            "max_width": null,
            "min_height": null,
            "min_width": null,
            "object_fit": null,
            "object_position": null,
            "order": null,
            "overflow": null,
            "overflow_x": null,
            "overflow_y": null,
            "padding": null,
            "right": null,
            "top": null,
            "visibility": null,
            "width": null
          }
        },
        "96ba0bc6a5af4e2797538f5f2e4ab939": {
          "model_module": "@jupyter-widgets/controls",
          "model_name": "DescriptionStyleModel",
          "model_module_version": "1.5.0",
          "state": {
            "_model_module": "@jupyter-widgets/controls",
            "_model_module_version": "1.5.0",
            "_model_name": "DescriptionStyleModel",
            "_view_count": null,
            "_view_module": "@jupyter-widgets/base",
            "_view_module_version": "1.2.0",
            "_view_name": "StyleView",
            "description_width": ""
          }
        }
      }
    }
  },
  "cells": [
    {
      "cell_type": "code",
      "execution_count": null,
      "metadata": {
        "colab": {
          "base_uri": "https://localhost:8080/"
        },
        "id": "_HXhEuPKVaO2",
        "outputId": "b1fa6a50-bc08-4a7f-8e5d-54e48e8640a6"
      },
      "outputs": [
        {
          "output_type": "stream",
          "name": "stdout",
          "text": [
            "Cloning into 'stable-diffusion-regularization-images'...\n",
            "remote: Enumerating objects: 49166, done.\u001b[K\n",
            "remote: Counting objects: 100% (10070/10070), done.\u001b[K\n",
            "remote: Compressing objects: 100% (10041/10041), done.\u001b[K\n",
            "remote: Total 49166 (delta 27), reused 10066 (delta 24), pack-reused 39096\u001b[K\n",
            "Receiving objects: 100% (49166/49166), 10.02 GiB | 42.62 MiB/s, done.\n",
            "Resolving deltas: 100% (50/50), done.\n",
            "Updating files: 100% (30002/30002), done.\n"
          ]
        }
      ],
      "source": [
        "!git clone https://github.com/tobecwb/stable-diffusion-regularization-images"
      ]
    },
    {
      "cell_type": "code",
      "source": [
        "!git clone https://github.com/bmaltais/kohya_ss.git\n",
        "!wget https://raw.githubusercontent.com/yushan777/kohya_ss_vastai/main/!sdxl_kohya_vastai_no_config.ipynb\n",
        "!mv '!sdxl_kohya_vastai_no_config.ipynb' 'kohya_ss'"
      ],
      "metadata": {
        "colab": {
          "base_uri": "https://localhost:8080/"
        },
        "id": "p69bpMCqhoSU",
        "outputId": "161117e4-c7a8-4e7c-ae79-a278adf59ac3"
      },
      "execution_count": null,
      "outputs": [
        {
          "output_type": "stream",
          "name": "stdout",
          "text": [
            "Cloning into 'kohya_ss'...\n",
            "remote: Enumerating objects: 10105, done.\u001b[K\n",
            "remote: Counting objects: 100% (2378/2378), done.\u001b[K\n",
            "remote: Compressing objects: 100% (253/253), done.\u001b[K\n",
            "remote: Total 10105 (delta 2216), reused 2209 (delta 2122), pack-reused 7727\u001b[K\n",
            "Receiving objects: 100% (10105/10105), 11.38 MiB | 15.29 MiB/s, done.\n",
            "Resolving deltas: 100% (7006/7006), done.\n",
            "--2023-12-25 15:19:23--  https://raw.githubusercontent.com/yushan777/kohya_ss_vastai/main/!sdxl_kohya_vastai_no_config.ipynb\n",
            "Resolving raw.githubusercontent.com (raw.githubusercontent.com)... 185.199.108.133, 185.199.109.133, 185.199.110.133, ...\n",
            "Connecting to raw.githubusercontent.com (raw.githubusercontent.com)|185.199.108.133|:443... connected.\n",
            "HTTP request sent, awaiting response... 200 OK\n",
            "Length: 16369 (16K) [text/plain]\n",
            "Saving to: ‘!sdxl_kohya_vastai_no_config.ipynb’\n",
            "\n",
            "!sdxl_kohya_vastai_ 100%[===================>]  15.99K  --.-KB/s    in 0.001s  \n",
            "\n",
            "2023-12-25 15:19:24 (25.7 MB/s) - ‘!sdxl_kohya_vastai_no_config.ipynb’ saved [16369/16369]\n",
            "\n"
          ]
        }
      ]
    },
    {
      "cell_type": "code",
      "source": [
        "!wget https://raw.githubusercontent.com/yushan777/kohya_ss_vastai/main/colors.py -q\n",
        "from colors import bcolors\n",
        "from IPython.display import clear_output\n",
        "\n",
        "print(f\"{bcolors.BOLD}{bcolors.GREEN}Installing prerequisites...{bcolors.ENDC}\")\n",
        "!apt-get update -y && apt-get install -y -qq libgl1\n",
        "!sudo apt update -y && sudo apt install -y -qq python3-tk\n",
        "clear_output(wait=True)\n",
        "\n",
        "print(f\"{bcolors.BOLD}{bcolors.GREEN}Installing main dependencies - this will take a few minutes...{bcolors.ENDC}\")\n",
        "\n",
        "%pip install gdown\n",
        "!chmod +x setup.sh\n",
        "!./setup.sh\n",
        "\n",
        "print(f\"{bcolors.BOLD}{bcolors.GREEN}Finished installing dependencies.{bcolors.ENDC}\")"
      ],
      "metadata": {
        "colab": {
          "base_uri": "https://localhost:8080/"
        },
        "id": "b3WUFCudjyGi",
        "outputId": "24df92ac-d811-45ef-d946-b7093616cbca"
      },
      "execution_count": null,
      "outputs": [
        {
          "output_type": "stream",
          "name": "stdout",
          "text": [
            "\u001b[1m\u001b[92mInstalling main dependencies - this will take a few minutes...\u001b[0m\n",
            "Requirement already satisfied: gdown in /usr/local/lib/python3.10/dist-packages (4.6.6)\n",
            "Requirement already satisfied: filelock in /usr/local/lib/python3.10/dist-packages (from gdown) (3.13.1)\n",
            "Requirement already satisfied: requests[socks] in /usr/local/lib/python3.10/dist-packages (from gdown) (2.31.0)\n",
            "Requirement already satisfied: six in /usr/local/lib/python3.10/dist-packages (from gdown) (1.16.0)\n",
            "Requirement already satisfied: tqdm in /usr/local/lib/python3.10/dist-packages (from gdown) (4.66.1)\n",
            "Requirement already satisfied: beautifulsoup4 in /usr/local/lib/python3.10/dist-packages (from gdown) (4.11.2)\n",
            "Requirement already satisfied: soupsieve>1.2 in /usr/local/lib/python3.10/dist-packages (from beautifulsoup4->gdown) (2.5)\n",
            "Requirement already satisfied: charset-normalizer<4,>=2 in /usr/local/lib/python3.10/dist-packages (from requests[socks]->gdown) (3.3.2)\n",
            "Requirement already satisfied: idna<4,>=2.5 in /usr/local/lib/python3.10/dist-packages (from requests[socks]->gdown) (3.6)\n",
            "Requirement already satisfied: urllib3<3,>=1.21.1 in /usr/local/lib/python3.10/dist-packages (from requests[socks]->gdown) (2.0.7)\n",
            "Requirement already satisfied: certifi>=2017.4.17 in /usr/local/lib/python3.10/dist-packages (from requests[socks]->gdown) (2023.11.17)\n",
            "Requirement already satisfied: PySocks!=1.5.7,>=1.5.6 in /usr/local/lib/python3.10/dist-packages (from requests[socks]->gdown) (1.7.1)\n",
            "chmod: cannot access 'setup.sh': No such file or directory\n",
            "/bin/bash: line 1: ./setup.sh: No such file or directory\n",
            "\u001b[1m\u001b[92mFinished installing dependencies.\u001b[0m\n"
          ]
        }
      ]
    },
    {
      "cell_type": "code",
      "source": [
        "# 2. Configure Accelerate With defaults and bf16 precision\n",
        "!accelerate config default --mixed_precision \"fp16\""
      ],
      "metadata": {
        "colab": {
          "base_uri": "https://localhost:8080/"
        },
        "id": "QljQudPpkN4t",
        "outputId": "f91a5d68-3e21-45b2-d96c-6d58152b3050"
      },
      "execution_count": null,
      "outputs": [
        {
          "output_type": "stream",
          "name": "stdout",
          "text": [
            "Configuration already exists at /root/.cache/huggingface/accelerate/default_config.yaml, will not override. Run `accelerate config` manually or pass a different `save_location`.\n"
          ]
        }
      ]
    },
    {
      "cell_type": "code",
      "source": [
        "# 3. VARIABLES\n",
        "# The following variables can be changed according to your project preferences\n",
        "token_word = \"ohwx\"\n",
        "class_word = \"woman\"\n",
        "training_repeats = 40\n",
        "training_root_dir = \"training_images\"\n",
        "regularization_root_dir = \"reg_images\"\n",
        "models_dir = \"training_models\"\n",
        "project_name = \"myProject\"\n",
        "output_dir = \"trained_models\""
      ],
      "metadata": {
        "id": "uyvuXcNPkX1A"
      },
      "execution_count": null,
      "outputs": []
    },
    {
      "cell_type": "code",
      "source": [
        "# 4. CREATE DATASET FOLDERS & MODEL FOLDER\n",
        "\n",
        "# ================================================================\n",
        "# your training and reg image subfolders will be named according to what is set in previous cell:\n",
        "# so if you stuck with the defaults, they would be for example :\n",
        "# \"training_images/40_ohwx person\"\n",
        "# \"reg_images/1_person\"\n",
        "training_dir = f'{training_root_dir}/{training_repeats}_{token_word} {class_word}'\n",
        "reg_dir = f'{regularization_root_dir}/1_{class_word}'\n",
        "\n",
        "# back to parent folder\n",
        "%cd /workspace/kohya_ss\n",
        "\n",
        "import os\n",
        "if os.path.exists(training_dir) == False:\n",
        "  os.makedirs(training_dir)\n",
        "  print(f'{training_dir} Created.')\n",
        "else:\n",
        "  print(f'{training_dir} already exists.')\n",
        "\n",
        "if os.path.exists(reg_dir) == False:\n",
        "  os.makedirs(reg_dir)\n",
        "  print(f'{reg_dir} Created.')\n",
        "else:\n",
        "  print(f'{reg_dir} already exists.')\n",
        "\n",
        "if os.path.exists(models_dir) == False:\n",
        "  os.makedirs(models_dir)\n",
        "  print(f'{models_dir} Created.')\n",
        "else:\n",
        "  print(f'{models_dir} already exists.')\n",
        "\n",
        "# Create prompt file use for samples during training.\n",
        "# first 2 prompts are the same but one has CFG=1 and the other CFG=7\n",
        "# if subject likeness is strong and regular even at CFG=1 then it is an good indicator that it is overfitted\n",
        "# third prompt is to check how well it responds to styling.\n",
        "lines = [\n",
        "    f\"a photo of {token_word} {class_word} --w 512 --h 512 --l 7, --s 20 --d 1234567890\\n\",\n",
        "    f\"a photo of {token_word} {class_word} --w 512 --h 512 --l 1, --s 20 --d 1234567890\\n\",\n",
        "    f\"a portrait of {token_word} {class_word} in the style of Rembrandt --w 512 --h 512 --l 6, --s 20 --d 1234567890\\n\"\n",
        "]\n",
        "\n",
        "# Create and write to the text file\n",
        "with open(\"prompt.txt\", \"w\") as file:\n",
        "    file.writelines(lines)\n",
        "\n",
        "print(\"File 'prompt.txt' has been created.\")"
      ],
      "metadata": {
        "colab": {
          "base_uri": "https://localhost:8080/"
        },
        "id": "9tRI9Ee7kdFt",
        "outputId": "ecd0882a-cfdf-428b-e3f8-393e01324449"
      },
      "execution_count": null,
      "outputs": [
        {
          "output_type": "stream",
          "name": "stdout",
          "text": [
            "[Errno 2] No such file or directory: '/workspace/kohya_ss'\n",
            "/content/kohya_ss\n",
            "training_images/40_ohwx woman Created.\n",
            "reg_images/1_woman Created.\n",
            "training_models already exists.\n",
            "File 'prompt.txt' has been created.\n"
          ]
        }
      ]
    },
    {
      "cell_type": "code",
      "source": [
        "from google.colab import drive\n",
        "drive.mount('/content/drive')"
      ],
      "metadata": {
        "colab": {
          "base_uri": "https://localhost:8080/"
        },
        "id": "1e-pIxDGkzUD",
        "outputId": "103fd1c3-0cd2-40d2-8151-90f0e021d210"
      },
      "execution_count": null,
      "outputs": [
        {
          "output_type": "stream",
          "name": "stdout",
          "text": [
            "Mounted at /content/drive\n"
          ]
        }
      ]
    },
    {
      "cell_type": "code",
      "source": [
        "training_dir"
      ],
      "metadata": {
        "colab": {
          "base_uri": "https://localhost:8080/",
          "height": 35
        },
        "id": "B8Mxa29YmqLL",
        "outputId": "4c4cd0f0-a327-48b3-b493-2a68addf061f"
      },
      "execution_count": null,
      "outputs": [
        {
          "output_type": "execute_result",
          "data": {
            "text/plain": [
              "'training_images/40_ohwx woman'"
            ],
            "application/vnd.google.colaboratory.intrinsic+json": {
              "type": "string"
            }
          },
          "metadata": {},
          "execution_count": 11
        }
      ]
    },
    {
      "cell_type": "code",
      "source": [
        "import shutil\n",
        "import os\n",
        "\n",
        "# Define the source directory (Google Drive)\n",
        "source_dir = '/content/drive/MyDrive/DL_Project/ND_squared'\n",
        "\n",
        "# Define the destination directory (local directory in Colab)\n",
        "destination_dir = '/content/training_images/40_ohwx woman'  # Replace with your desired local path\n",
        "\n",
        "# Create the destination directory if it doesn't exist\n",
        "if not os.path.exists(destination_dir):\n",
        "    os.makedirs(destination_dir)\n",
        "\n",
        "# Copy each file from the source directory to the destination directory\n",
        "for filename in os.listdir(source_dir):\n",
        "    file_path = os.path.join(source_dir, filename)\n",
        "    if os.path.isfile(file_path):\n",
        "        shutil.copy(file_path, destination_dir)\n",
        "\n",
        "print(\"Files copied successfully.\")\n"
      ],
      "metadata": {
        "colab": {
          "base_uri": "https://localhost:8080/"
        },
        "id": "SH1ErywplKKl",
        "outputId": "604feb4d-9896-4360-973d-1c2bf14bec17"
      },
      "execution_count": null,
      "outputs": [
        {
          "output_type": "stream",
          "name": "stdout",
          "text": [
            "Files copied successfully.\n"
          ]
        }
      ]
    },
    {
      "cell_type": "code",
      "source": [
        "reg_dir"
      ],
      "metadata": {
        "colab": {
          "base_uri": "https://localhost:8080/",
          "height": 35
        },
        "id": "aO91mpMhmxK0",
        "outputId": "9fce702e-3b6c-4018-fd21-66d11b4647f9"
      },
      "execution_count": null,
      "outputs": [
        {
          "output_type": "execute_result",
          "data": {
            "text/plain": [
              "'reg_images/1_woman'"
            ],
            "application/vnd.google.colaboratory.intrinsic+json": {
              "type": "string"
            }
          },
          "metadata": {},
          "execution_count": 13
        }
      ]
    },
    {
      "cell_type": "code",
      "source": [
        "import os\n",
        "\n",
        "# Define the directory path\n",
        "directory_path = '/content/stable-diffusion-regularization-images/sdxl/woman'\n",
        "\n",
        "# Check if the directory exists\n",
        "if os.path.exists(directory_path):\n",
        "    # List all files in the directory\n",
        "    files = [f for f in os.listdir(directory_path) if os.path.isfile(os.path.join(directory_path, f))]\n",
        "\n",
        "    # Count the number of files\n",
        "    file_count = len(files)\n",
        "\n",
        "    print(f\"Number of files in '{directory_path}': {file_count}\")\n",
        "else:\n",
        "    print(f\"The directory '{directory_path}' does not exist.\")\n"
      ],
      "metadata": {
        "colab": {
          "base_uri": "https://localhost:8080/"
        },
        "id": "9kt2XGETned6",
        "outputId": "79650069-7153-4fa7-9406-b0bd24d77ae1"
      },
      "execution_count": null,
      "outputs": [
        {
          "output_type": "stream",
          "name": "stdout",
          "text": [
            "Number of files in '/content/stable-diffusion-regularization-images/sdxl/woman': 5000\n"
          ]
        }
      ]
    },
    {
      "cell_type": "code",
      "source": [
        "import os\n",
        "\n",
        "# Define the directory path\n",
        "directory_path = '/content/drive/MyDrive/DL_Project/ND_squared'\n",
        "\n",
        "# Check if the directory exists\n",
        "if os.path.exists(directory_path):\n",
        "    # List all files in the directory\n",
        "    files = [f for f in os.listdir(directory_path) if os.path.isfile(os.path.join(directory_path, f))]\n",
        "\n",
        "    # Count the number of files\n",
        "    file_count = len(files)\n",
        "\n",
        "    print(f\"Number of files in '{directory_path}': {file_count}\")\n",
        "else:\n",
        "    print(f\"The directory '{directory_path}' does not exist.\")\n"
      ],
      "metadata": {
        "colab": {
          "base_uri": "https://localhost:8080/"
        },
        "id": "0Gro3Mk_ni0p",
        "outputId": "5b67bf00-4ca8-49f9-8366-0fdb21a3efb7"
      },
      "execution_count": null,
      "outputs": [
        {
          "output_type": "stream",
          "name": "stdout",
          "text": [
            "Number of files in '/content/drive/MyDrive/DL_Project/ND_squared': 96\n"
          ]
        }
      ]
    },
    {
      "cell_type": "code",
      "source": [
        "import shutil\n",
        "import os\n",
        "\n",
        "# Define the source directory (Google Drive)\n",
        "source_dir = '/content/stable-diffusion-regularization-images/sdxl/woman'\n",
        "\n",
        "# Define the destination directory (local directory in Colab)\n",
        "destination_dir = '/content/reg_images/1_woman'  # Replace with your desired local path\n",
        "\n",
        "# Create the destination directory if it doesn't exist\n",
        "if not os.path.exists(destination_dir):\n",
        "    os.makedirs(destination_dir)\n",
        "\n",
        "# Copy each file from the source directory to the destination directory\n",
        "for filename in os.listdir(source_dir):\n",
        "    file_path = os.path.join(source_dir, filename)\n",
        "    if os.path.isfile(file_path):\n",
        "        shutil.copy(file_path, destination_dir)\n",
        "\n",
        "print(\"Files copied successfully.\")\n"
      ],
      "metadata": {
        "colab": {
          "base_uri": "https://localhost:8080/"
        },
        "id": "fw_mNCuEnG2K",
        "outputId": "0b53a566-491b-42b8-ed59-f7578570ebf1"
      },
      "execution_count": null,
      "outputs": [
        {
          "output_type": "stream",
          "name": "stdout",
          "text": [
            "Files copied successfully.\n"
          ]
        }
      ]
    },
    {
      "cell_type": "code",
      "source": [
        "import shutil\n",
        "import os\n",
        "\n",
        "# Define the source directory (Google Drive)\n",
        "source_dir = '/content/stable-diffusion-regularization-images/sdxl/woman'\n",
        "\n",
        "# Define the destination directory (local directory in Colab)\n",
        "destination_dir = '/content/drive/MyDrive/DL_Project/SDXL_5k_wmn'  # Replace with your desired local path\n",
        "\n",
        "# Create the destination directory if it doesn't exist\n",
        "if not os.path.exists(destination_dir):\n",
        "    os.makedirs(destination_dir)\n",
        "\n",
        "# Copy each file from the source directory to the destination directory\n",
        "for filename in os.listdir(source_dir):\n",
        "    file_path = os.path.join(source_dir, filename)\n",
        "    if os.path.isfile(file_path):\n",
        "        shutil.copy(file_path, destination_dir)\n",
        "\n",
        "print(\"Files copied successfully.\")\n"
      ],
      "metadata": {
        "colab": {
          "base_uri": "https://localhost:8080/"
        },
        "id": "7hKWL0QUn0Jh",
        "outputId": "98a8d9bf-18ee-425e-8156-1efb598b5906"
      },
      "execution_count": null,
      "outputs": [
        {
          "output_type": "stream",
          "name": "stdout",
          "text": [
            "Files copied successfully.\n"
          ]
        }
      ]
    },
    {
      "cell_type": "code",
      "source": [
        "# 7. Check Dataset Folders\n",
        "# ====================================================\n",
        "# remove any non-image files & warn if any additional folders exist\n",
        "import os\n",
        "import shutil\n",
        "from glob import glob\n",
        "folder_path = f'{training_dir}'\n",
        "\n",
        "# Get a list of all files in the folder\n",
        "files = glob(folder_path + '/*', recursive=False)\n",
        "\n",
        "# Iterate over the files and delete the ones that are not JPG or PNG\n",
        "for file_path in files:\n",
        "    if not (file_path.endswith('.jpg') or file_path.endswith('.png')):\n",
        "        if os.path.isfile(file_path):\n",
        "            os.remove(file_path)\n",
        "        elif os.path.isdir(file_path):\n",
        "            print(f'{bcolors.BOLD}{bcolors.RED} Unexpected folder: \\'{file_path}\\' was found in training images folder path.  Check and remove it.{bcolors.ENDC}')\n",
        "\n",
        "# force remove hidden .ipynb_checkpoints folder in images folder.\n",
        "if os.path.exists(f'{folder_path}/.ipynb_checkpoints'):\n",
        "    shutil.rmtree(f'{folder_path}/.ipynb_checkpoints')\n",
        "\n",
        "# ====================================================\n",
        "# delete any non-image files & warn if any additional folders\n",
        "\n",
        "folder_path = f'{reg_dir}'\n",
        "\n",
        "# Get a list of all files in the folder\n",
        "files = glob(folder_path + '/*', recursive=False)\n",
        "\n",
        "# Iterate over the files and delete the ones that are not JPG or PNG\n",
        "for file_path in files:\n",
        "    if not (file_path.endswith('.jpg') or file_path.endswith('.png')):\n",
        "        if os.path.isfile(file_path):\n",
        "            os.remove(file_path)\n",
        "        elif os.path.isdir(file_path):\n",
        "            print(f'{bcolors.BOLD}{bcolors.RED} Unexpected folder: \\'{file_path}\\' was found in training images folder path.  Check and remove it.{bcolors.ENDC}')\n",
        "\n",
        "# force remove hidden .ipynb_checkpoints folder in images folder.\n",
        "if os.path.exists(f'{folder_path}/.ipynb_checkpoints'):\n",
        "    shutil.rmtree(f'{folder_path}/.ipynb_checkpoints')"
      ],
      "metadata": {
        "id": "ZT53ezW7oEn3"
      },
      "execution_count": null,
      "outputs": []
    },
    {
      "cell_type": "code",
      "source": [
        "# 8. Download SDXL 1.0 (0.9VAE) base model (the one with 0.9vae baked in instead of 1.0vae\n",
        "from huggingface_hub import hf_hub_download\n",
        "\n",
        "# Specify the repository ID, the filename, and the desired download directory\n",
        "repo_id = 'stabilityai/stable-diffusion-xl-base-1.0'\n",
        "filename = 'sd_xl_base_1.0_0.9vae.safetensors'\n",
        "download_directory = '/content/training_models'\n",
        "\n",
        "# Download the file to the training_models dir, as a regular file (not symlink)\n",
        "base_model = hf_hub_download(repo_id=repo_id, filename=filename, local_dir=download_directory, local_dir_use_symlinks=False)\n",
        "print(base_model)\n"
      ],
      "metadata": {
        "colab": {
          "base_uri": "https://localhost:8080/",
          "height": 66,
          "referenced_widgets": [
            "00117eaba55e4a53a1cb6092fbb129bc",
            "299df103a98643b2ba49eb0b82f08851",
            "27853e1342f549e696918f4b3a64eb6d",
            "06b2031eb2d34c29a9911aae756a08a5",
            "c78569ba56914e7785352595be5388ec",
            "170979b268444b95acdc27058c8d7ebb",
            "13000b40042c4f37ab37d0fe9f9ba990",
            "2297f450a81c42fea9f5a31a68dec929",
            "c3fd3e44aa9947e39f4fbc2026d421d0",
            "8b1ed1f598a9437fa57028f8ed885f0d",
            "96ba0bc6a5af4e2797538f5f2e4ab939"
          ]
        },
        "id": "W4HCFMCQocxn",
        "outputId": "78f5079e-9b2b-4ccd-838e-967032803df8"
      },
      "execution_count": null,
      "outputs": [
        {
          "output_type": "display_data",
          "data": {
            "text/plain": [
              "sd_xl_base_1.0_0.9vae.safetensors:   0%|          | 0.00/6.94G [00:00<?, ?B/s]"
            ],
            "application/vnd.jupyter.widget-view+json": {
              "version_major": 2,
              "version_minor": 0,
              "model_id": "00117eaba55e4a53a1cb6092fbb129bc"
            }
          },
          "metadata": {}
        },
        {
          "output_type": "stream",
          "name": "stdout",
          "text": [
            "/content/training_models/sd_xl_base_1.0_0.9vae.safetensors\n"
          ]
        }
      ]
    },
    {
      "cell_type": "code",
      "source": [
        "base_model, training_root_dir, regularization_root_dir, output_dir"
      ],
      "metadata": {
        "colab": {
          "base_uri": "https://localhost:8080/"
        },
        "id": "2_w29h9zpAGv",
        "outputId": "10f28c86-c21c-49c7-c989-b0b26b3f75c4"
      },
      "execution_count": null,
      "outputs": [
        {
          "output_type": "execute_result",
          "data": {
            "text/plain": [
              "('/content/training_models/sd_xl_base_1.0_0.9vae.safetensors',\n",
              " 'training_images',\n",
              " 'reg_images',\n",
              " 'trained_models')"
            ]
          },
          "metadata": {},
          "execution_count": 20
        }
      ]
    },
    {
      "cell_type": "code",
      "source": [
        "%pip install -q accelerate transformers ftfy bitsandbytes==0.35.0 gradio natsort safetensors xformers"
      ],
      "metadata": {
        "colab": {
          "base_uri": "https://localhost:8080/"
        },
        "id": "qCJcK3OHp5bE",
        "outputId": "5d5847e9-84aa-45b1-85fa-a638eb0474d8"
      },
      "execution_count": null,
      "outputs": [
        {
          "output_type": "stream",
          "name": "stdout",
          "text": [
            "\u001b[?25l     \u001b[90m━━━━━━━━━━━━━━━━━━━━━━━━━━━━━━━━━━━━━━━━\u001b[0m \u001b[32m0.0/265.7 kB\u001b[0m \u001b[31m?\u001b[0m eta \u001b[36m-:--:--\u001b[0m\r\u001b[2K     \u001b[91m━━━━━━━━━━━━━━━━━━━━━━━━━━━━━━━━━\u001b[0m\u001b[91m╸\u001b[0m\u001b[90m━━━━━━\u001b[0m \u001b[32m225.3/265.7 kB\u001b[0m \u001b[31m7.2 MB/s\u001b[0m eta \u001b[36m0:00:01\u001b[0m\r\u001b[2K     \u001b[90m━━━━━━━━━━━━━━━━━━━━━━━━━━━━━━━━━━━━━━━━\u001b[0m \u001b[32m265.7/265.7 kB\u001b[0m \u001b[31m6.3 MB/s\u001b[0m eta \u001b[36m0:00:00\u001b[0m\n",
            "\u001b[2K     \u001b[90m━━━━━━━━━━━━━━━━━━━━━━━━━━━━━━━━━━━━━━━━\u001b[0m \u001b[32m53.4/53.4 kB\u001b[0m \u001b[31m7.8 MB/s\u001b[0m eta \u001b[36m0:00:00\u001b[0m\n",
            "\u001b[2K     \u001b[90m━━━━━━━━━━━━━━━━━━━━━━━━━━━━━━━━━━━━━━━━\u001b[0m \u001b[32m62.5/62.5 MB\u001b[0m \u001b[31m11.3 MB/s\u001b[0m eta \u001b[36m0:00:00\u001b[0m\n",
            "\u001b[2K     \u001b[90m━━━━━━━━━━━━━━━━━━━━━━━━━━━━━━━━━━━━━━━━\u001b[0m \u001b[32m16.6/16.6 MB\u001b[0m \u001b[31m89.0 MB/s\u001b[0m eta \u001b[36m0:00:00\u001b[0m\n",
            "\u001b[2K     \u001b[90m━━━━━━━━━━━━━━━━━━━━━━━━━━━━━━━━━━━━━━━━\u001b[0m \u001b[32m213.0/213.0 MB\u001b[0m \u001b[31m3.6 MB/s\u001b[0m eta \u001b[36m0:00:00\u001b[0m\n",
            "\u001b[2K     \u001b[90m━━━━━━━━━━━━━━━━━━━━━━━━━━━━━━━━━━━━━━━━\u001b[0m \u001b[32m93.1/93.1 kB\u001b[0m \u001b[31m12.6 MB/s\u001b[0m eta \u001b[36m0:00:00\u001b[0m\n",
            "\u001b[?25h  Preparing metadata (setup.py) ... \u001b[?25l\u001b[?25hdone\n",
            "\u001b[2K     \u001b[90m━━━━━━━━━━━━━━━━━━━━━━━━━━━━━━━━━━━━━━━━\u001b[0m \u001b[32m305.1/305.1 kB\u001b[0m \u001b[31m28.7 MB/s\u001b[0m eta \u001b[36m0:00:00\u001b[0m\n",
            "\u001b[2K     \u001b[90m━━━━━━━━━━━━━━━━━━━━━━━━━━━━━━━━━━━━━━━━\u001b[0m \u001b[32m75.9/75.9 kB\u001b[0m \u001b[31m10.2 MB/s\u001b[0m eta \u001b[36m0:00:00\u001b[0m\n",
            "\u001b[2K     \u001b[90m━━━━━━━━━━━━━━━━━━━━━━━━━━━━━━━━━━━━━━━━\u001b[0m \u001b[32m138.7/138.7 kB\u001b[0m \u001b[31m13.6 MB/s\u001b[0m eta \u001b[36m0:00:00\u001b[0m\n",
            "\u001b[2K     \u001b[90m━━━━━━━━━━━━━━━━━━━━━━━━━━━━━━━━━━━━━━━━\u001b[0m \u001b[32m381.9/381.9 kB\u001b[0m \u001b[31m41.7 MB/s\u001b[0m eta \u001b[36m0:00:00\u001b[0m\n",
            "\u001b[2K     \u001b[90m━━━━━━━━━━━━━━━━━━━━━━━━━━━━━━━━━━━━━━━━\u001b[0m \u001b[32m45.7/45.7 kB\u001b[0m \u001b[31m7.1 MB/s\u001b[0m eta \u001b[36m0:00:00\u001b[0m\n",
            "\u001b[2K     \u001b[90m━━━━━━━━━━━━━━━━━━━━━━━━━━━━━━━━━━━━━━━━\u001b[0m \u001b[32m60.3/60.3 kB\u001b[0m \u001b[31m9.0 MB/s\u001b[0m eta \u001b[36m0:00:00\u001b[0m\n",
            "\u001b[2K     \u001b[90m━━━━━━━━━━━━━━━━━━━━━━━━━━━━━━━━━━━━━━━━\u001b[0m \u001b[32m129.9/129.9 kB\u001b[0m \u001b[31m18.5 MB/s\u001b[0m eta \u001b[36m0:00:00\u001b[0m\n",
            "\u001b[2K     \u001b[90m━━━━━━━━━━━━━━━━━━━━━━━━━━━━━━━━━━━━━━━━\u001b[0m \u001b[32m670.2/670.2 MB\u001b[0m \u001b[31m1.9 MB/s\u001b[0m eta \u001b[36m0:00:00\u001b[0m\n",
            "\u001b[2K     \u001b[90m━━━━━━━━━━━━━━━━━━━━━━━━━━━━━━━━━━━━━━━━\u001b[0m \u001b[32m23.7/23.7 MB\u001b[0m \u001b[31m65.9 MB/s\u001b[0m eta \u001b[36m0:00:00\u001b[0m\n",
            "\u001b[2K     \u001b[90m━━━━━━━━━━━━━━━━━━━━━━━━━━━━━━━━━━━━━━━━\u001b[0m \u001b[32m823.6/823.6 kB\u001b[0m \u001b[31m70.8 MB/s\u001b[0m eta \u001b[36m0:00:00\u001b[0m\n",
            "\u001b[2K     \u001b[90m━━━━━━━━━━━━━━━━━━━━━━━━━━━━━━━━━━━━━━━━\u001b[0m \u001b[32m14.1/14.1 MB\u001b[0m \u001b[31m93.1 MB/s\u001b[0m eta \u001b[36m0:00:00\u001b[0m\n",
            "\u001b[2K     \u001b[90m━━━━━━━━━━━━━━━━━━━━━━━━━━━━━━━━━━━━━━━━\u001b[0m \u001b[32m731.7/731.7 MB\u001b[0m \u001b[31m1.5 MB/s\u001b[0m eta \u001b[36m0:00:00\u001b[0m\n",
            "\u001b[2K     \u001b[90m━━━━━━━━━━━━━━━━━━━━━━━━━━━━━━━━━━━━━━━━\u001b[0m \u001b[32m410.6/410.6 MB\u001b[0m \u001b[31m3.6 MB/s\u001b[0m eta \u001b[36m0:00:00\u001b[0m\n",
            "\u001b[2K     \u001b[90m━━━━━━━━━━━━━━━━━━━━━━━━━━━━━━━━━━━━━━━━\u001b[0m \u001b[32m121.6/121.6 MB\u001b[0m \u001b[31m8.9 MB/s\u001b[0m eta \u001b[36m0:00:00\u001b[0m\n",
            "\u001b[2K     \u001b[90m━━━━━━━━━━━━━━━━━━━━━━━━━━━━━━━━━━━━━━━━\u001b[0m \u001b[32m56.5/56.5 MB\u001b[0m \u001b[31m12.7 MB/s\u001b[0m eta \u001b[36m0:00:00\u001b[0m\n",
            "\u001b[2K     \u001b[90m━━━━━━━━━━━━━━━━━━━━━━━━━━━━━━━━━━━━━━━━\u001b[0m \u001b[32m124.2/124.2 MB\u001b[0m \u001b[31m8.3 MB/s\u001b[0m eta \u001b[36m0:00:00\u001b[0m\n",
            "\u001b[2K     \u001b[90m━━━━━━━━━━━━━━━━━━━━━━━━━━━━━━━━━━━━━━━━\u001b[0m \u001b[32m196.0/196.0 MB\u001b[0m \u001b[31m6.4 MB/s\u001b[0m eta \u001b[36m0:00:00\u001b[0m\n",
            "\u001b[2K     \u001b[90m━━━━━━━━━━━━━━━━━━━━━━━━━━━━━━━━━━━━━━━━\u001b[0m \u001b[32m209.8/209.8 MB\u001b[0m \u001b[31m2.3 MB/s\u001b[0m eta \u001b[36m0:00:00\u001b[0m\n",
            "\u001b[2K     \u001b[90m━━━━━━━━━━━━━━━━━━━━━━━━━━━━━━━━━━━━━━━━\u001b[0m \u001b[32m99.1/99.1 kB\u001b[0m \u001b[31m15.7 MB/s\u001b[0m eta \u001b[36m0:00:00\u001b[0m\n",
            "\u001b[2K     \u001b[90m━━━━━━━━━━━━━━━━━━━━━━━━━━━━━━━━━━━━━━━━\u001b[0m \u001b[32m20.5/20.5 MB\u001b[0m \u001b[31m79.5 MB/s\u001b[0m eta \u001b[36m0:00:00\u001b[0m\n",
            "\u001b[2K     \u001b[90m━━━━━━━━━━━━━━━━━━━━━━━━━━━━━━━━━━━━━━━━\u001b[0m \u001b[32m2.1/2.1 MB\u001b[0m \u001b[31m92.2 MB/s\u001b[0m eta \u001b[36m0:00:00\u001b[0m\n",
            "\u001b[2K     \u001b[90m━━━━━━━━━━━━━━━━━━━━━━━━━━━━━━━━━━━━━━━━\u001b[0m \u001b[32m58.3/58.3 kB\u001b[0m \u001b[31m8.2 MB/s\u001b[0m eta \u001b[36m0:00:00\u001b[0m\n",
            "\u001b[2K     \u001b[90m━━━━━━━━━━━━━━━━━━━━━━━━━━━━━━━━━━━━━━━━\u001b[0m \u001b[32m67.0/67.0 kB\u001b[0m \u001b[31m10.0 MB/s\u001b[0m eta \u001b[36m0:00:00\u001b[0m\n",
            "\u001b[2K     \u001b[90m━━━━━━━━━━━━━━━━━━━━━━━━━━━━━━━━━━━━━━━━\u001b[0m \u001b[32m76.9/76.9 kB\u001b[0m \u001b[31m10.8 MB/s\u001b[0m eta \u001b[36m0:00:00\u001b[0m\n",
            "\u001b[?25h  Building wheel for ffmpy (setup.py) ... \u001b[?25l\u001b[?25hdone\n",
            "\u001b[31mERROR: pip's dependency resolver does not currently take into account all the packages that are installed. This behaviour is the source of the following dependency conflicts.\n",
            "lida 0.0.10 requires kaleido, which is not installed.\n",
            "llmx 0.0.15a0 requires cohere, which is not installed.\n",
            "llmx 0.0.15a0 requires openai, which is not installed.\n",
            "llmx 0.0.15a0 requires tiktoken, which is not installed.\n",
            "tensorflow-probability 0.22.0 requires typing-extensions<4.6.0, but you have typing-extensions 4.9.0 which is incompatible.\n",
            "torchaudio 2.1.0+cu121 requires torch==2.1.0, but you have torch 2.1.2 which is incompatible.\n",
            "torchdata 0.7.0 requires torch==2.1.0, but you have torch 2.1.2 which is incompatible.\n",
            "torchtext 0.16.0 requires torch==2.1.0, but you have torch 2.1.2 which is incompatible.\n",
            "torchvision 0.16.0+cu121 requires torch==2.1.0, but you have torch 2.1.2 which is incompatible.\u001b[0m\u001b[31m\n",
            "\u001b[0m"
          ]
        }
      ]
    },
    {
      "cell_type": "code",
      "source": [
        "%cd /content/kohya_ss"
      ],
      "metadata": {
        "colab": {
          "base_uri": "https://localhost:8080/"
        },
        "id": "lBrf3VvgrhFc",
        "outputId": "a515c211-44cf-40f4-9324-1cdbef7966d6"
      },
      "execution_count": null,
      "outputs": [
        {
          "output_type": "stream",
          "name": "stdout",
          "text": [
            "/content/kohya_ss\n"
          ]
        }
      ]
    },
    {
      "cell_type": "code",
      "source": [
        "!pip install -qq diffusers==0.16.1 transformers ftfy accelerate"
      ],
      "metadata": {
        "colab": {
          "base_uri": "https://localhost:8080/"
        },
        "id": "ALUUz461r-LD",
        "outputId": "118287e1-54d8-43dc-f3f1-7a10dfe68cb7"
      },
      "execution_count": null,
      "outputs": [
        {
          "output_type": "stream",
          "name": "stdout",
          "text": [
            "\u001b[?25l     \u001b[90m━━━━━━━━━━━━━━━━━━━━━━━━━━━━━━━━━━━━━━━━\u001b[0m \u001b[32m0.0/934.9 kB\u001b[0m \u001b[31m?\u001b[0m eta \u001b[36m-:--:--\u001b[0m\r\u001b[2K     \u001b[91m━━━\u001b[0m\u001b[91m╸\u001b[0m\u001b[90m━━━━━━━━━━━━━━━━━━━━━━━━━━━━━━━━━━━━\u001b[0m \u001b[32m81.9/934.9 kB\u001b[0m \u001b[31m2.4 MB/s\u001b[0m eta \u001b[36m0:00:01\u001b[0m\r\u001b[2K     \u001b[91m━━━━━━━━━━━━━━━\u001b[0m\u001b[90m╺\u001b[0m\u001b[90m━━━━━━━━━━━━━━━━━━━━━━━━\u001b[0m \u001b[32m358.4/934.9 kB\u001b[0m \u001b[31m5.5 MB/s\u001b[0m eta \u001b[36m0:00:01\u001b[0m\r\u001b[2K     \u001b[91m━━━━━━━━━━━━━━━━━━━━━━━━━━━━━━━\u001b[0m\u001b[91m╸\u001b[0m\u001b[90m━━━━━━━━\u001b[0m \u001b[32m747.5/934.9 kB\u001b[0m \u001b[31m7.3 MB/s\u001b[0m eta \u001b[36m0:00:01\u001b[0m\r\u001b[2K     \u001b[90m━━━━━━━━━━━━━━━━━━━━━━━━━━━━━━━━━━━━━━━━\u001b[0m \u001b[32m934.9/934.9 kB\u001b[0m \u001b[31m7.4 MB/s\u001b[0m eta \u001b[36m0:00:00\u001b[0m\n",
            "\u001b[?25h"
          ]
        }
      ]
    },
    {
      "cell_type": "code",
      "source": [
        "!pip install einops"
      ],
      "metadata": {
        "colab": {
          "base_uri": "https://localhost:8080/"
        },
        "id": "ppaMdYoDsgoO",
        "outputId": "eff0659a-0619-4982-fdea-b30a8a113c84"
      },
      "execution_count": null,
      "outputs": [
        {
          "output_type": "stream",
          "name": "stdout",
          "text": [
            "Collecting einops\n",
            "  Downloading einops-0.7.0-py3-none-any.whl (44 kB)\n",
            "\u001b[?25l     \u001b[90m━━━━━━━━━━━━━━━━━━━━━━━━━━━━━━━━━━━━━━━━\u001b[0m \u001b[32m0.0/44.6 kB\u001b[0m \u001b[31m?\u001b[0m eta \u001b[36m-:--:--\u001b[0m\r\u001b[2K     \u001b[90m━━━━━━━━━━━━━━━━━━━━━━━━━━━━━━━━━━━━━━━━\u001b[0m \u001b[32m44.6/44.6 kB\u001b[0m \u001b[31m1.6 MB/s\u001b[0m eta \u001b[36m0:00:00\u001b[0m\n",
            "\u001b[?25hInstalling collected packages: einops\n",
            "Successfully installed einops-0.7.0\n"
          ]
        }
      ]
    },
    {
      "cell_type": "code",
      "source": [
        "!pip install voluptuous"
      ],
      "metadata": {
        "colab": {
          "base_uri": "https://localhost:8080/"
        },
        "id": "EGdZaX4asvwI",
        "outputId": "0e9e7ca1-eb7a-4038-f82b-7c43b003c7c0"
      },
      "execution_count": null,
      "outputs": [
        {
          "output_type": "stream",
          "name": "stdout",
          "text": [
            "Collecting voluptuous\n",
            "  Downloading voluptuous-0.14.1-py3-none-any.whl (30 kB)\n",
            "Installing collected packages: voluptuous\n",
            "Successfully installed voluptuous-0.14.1\n"
          ]
        }
      ]
    },
    {
      "cell_type": "code",
      "source": [
        "import os\n",
        "import shutil\n",
        "\n",
        "# Define the source and destination directories\n",
        "source_dir = '/content/training_images/40_ohwx woman'\n",
        "destination_dir = '/content/training_images'\n",
        "\n",
        "# Check if both the source and destination directories exist\n",
        "if os.path.exists(source_dir) and os.path.exists(destination_dir):\n",
        "    # Iterate over all files in the source directory\n",
        "    for filename in os.listdir(source_dir):\n",
        "        file_path = os.path.join(source_dir, filename)\n",
        "\n",
        "        # Check if it's a file and not a directory\n",
        "        if os.path.isfile(file_path):\n",
        "            # Move each file to the destination directory\n",
        "            shutil.move(file_path, destination_dir)\n",
        "\n",
        "    print(\"All files moved successfully.\")\n",
        "else:\n",
        "    print(\"Check if both source and destination directories exist.\")\n"
      ],
      "metadata": {
        "colab": {
          "base_uri": "https://localhost:8080/"
        },
        "id": "jh0TCzx-t68A",
        "outputId": "e561b5e0-5ebc-4248-e31e-da52824f8c18"
      },
      "execution_count": null,
      "outputs": [
        {
          "output_type": "stream",
          "name": "stdout",
          "text": [
            "All files moved successfully.\n"
          ]
        }
      ]
    },
    {
      "cell_type": "code",
      "source": [
        "!pwd"
      ],
      "metadata": {
        "colab": {
          "base_uri": "https://localhost:8080/"
        },
        "id": "0Gt9_rjzv-bI",
        "outputId": "1f5a800f-923a-44b8-ea84-87e19da25007"
      },
      "execution_count": null,
      "outputs": [
        {
          "output_type": "stream",
          "name": "stdout",
          "text": [
            "/content/kohya_ss\n"
          ]
        }
      ]
    },
    {
      "cell_type": "code",
      "source": [
        "import os\n",
        "import glob\n",
        "\n",
        "# Define the root directory to start the search\n",
        "root_dir = './'\n",
        "\n",
        "# List to store the paths of found .toml files\n",
        "toml_files = []\n",
        "\n",
        "# Walk through the directory and its subdirectories\n",
        "for dirpath, dirnames, filenames in os.walk(root_dir):\n",
        "    # Use glob to find .toml files in the current directory\n",
        "    for filename in glob.glob(os.path.join(dirpath, '*.toml')):\n",
        "        toml_files.append(filename)\n",
        "\n",
        "# Print the list of found .toml files\n",
        "for file in toml_files:\n",
        "    print(file)\n"
      ],
      "metadata": {
        "colab": {
          "base_uri": "https://localhost:8080/"
        },
        "id": "uQwzKthJwdtn",
        "outputId": "f23bd112-70ee-451b-ec4f-b1a12a37f306"
      },
      "execution_count": null,
      "outputs": [
        {
          "output_type": "stream",
          "name": "stdout",
          "text": [
            "./pyproject.toml\n",
            "./_typos.toml\n"
          ]
        }
      ]
    },
    {
      "cell_type": "code",
      "source": [
        "import os\n",
        "import shutil\n",
        "\n",
        "# Define the source and destination directories\n",
        "source_dir = '/content/kohya_ss/training/reg_images'\n",
        "destination_dir = '/content/kohya_ss/training/reg_images/1_woman'\n",
        "\n",
        "# Check if both the source and destination directories exist\n",
        "if not os.path.exists(destination_dir):\n",
        "    print(f\"The destination directory {destination_dir} does not exist.\")\n",
        "elif not os.path.exists(source_dir):\n",
        "    print(f\"The source directory {source_dir} does not exist.\")\n",
        "else:\n",
        "    # Iterate over all files in the source directory\n",
        "    for filename in os.listdir(source_dir):\n",
        "        # Construct the full file path\n",
        "        file_path = os.path.join(source_dir, filename)\n",
        "        # Check if it's a file and not a directory and if it's an image\n",
        "        if os.path.isfile(file_path) and file_path.lower().endswith(('.png', '.jpg', '.jpeg', '.bmp', '.gif', '.tiff')):\n",
        "            # Move each image to the destination directory\n",
        "            shutil.move(file_path, destination_dir)\n",
        "\n",
        "    print(\"All images have been moved to the 40_ohwx_woman folder.\")\n"
      ],
      "metadata": {
        "colab": {
          "base_uri": "https://localhost:8080/"
        },
        "id": "OwyAYTKmzo_-",
        "outputId": "eae36d69-ca60-4f93-a678-66713c36ec18"
      },
      "execution_count": null,
      "outputs": [
        {
          "output_type": "stream",
          "name": "stdout",
          "text": [
            "All images have been moved to the 40_ohwx_woman folder.\n"
          ]
        }
      ]
    },
    {
      "cell_type": "code",
      "source": [
        "!accelerate config default"
      ],
      "metadata": {
        "colab": {
          "base_uri": "https://localhost:8080/"
        },
        "id": "mZdCoZEB2MZt",
        "outputId": "19e7060a-6766-436b-f626-b501101100b7"
      },
      "execution_count": null,
      "outputs": [
        {
          "output_type": "stream",
          "name": "stdout",
          "text": [
            "accelerate configuration saved at /root/.cache/huggingface/accelerate/default_config.yaml\n"
          ]
        }
      ]
    },
    {
      "cell_type": "code",
      "source": [
        "max_steps = 7500\n",
        "learning_rate = 1e-5\n",
        "learning_rate_te1 = 1e-7\n",
        "learning_rate_te2 = 1e-7\n",
        "save_every_n_steps = 1000\n",
        "\n",
        "print(base_model)\n",
        "!accelerate launch --num_cpu_threads_per_process=2 \"/content/kohya_ss/sdxl_train.py\" \\\n",
        "  --pretrained_model_name_or_path=\"/content/training_models/sd_xl_base_1.0_0.9vae.safetensors\" \\\n",
        "  --train_data_dir=\"/content/kohya_ss/training/training_images\" \\\n",
        "  --reg_data_dir=\"/content/kohya_ss/training/reg_images\" \\\n",
        "  --output_dir=\"/content/kohya_ss/trained_models\" \\\n",
        "  --output_name=\"{project_name}\" \\\n",
        "  --save_model_as=\"safetensors\" \\\n",
        "  --train_batch_size=2 \\\n",
        "  --max_train_steps={max_steps} \\\n",
        "  --save_every_n_steps={save_every_n_steps} \\\n",
        "  --optimizer_type=\"adafactor\" \\\n",
        "  --optimizer_args scale_parameter=False relative_step=False warmup_init=False \\\n",
        "  --xformers \\\n",
        "  --cache_latents \\\n",
        "  --lr_scheduler=\"constant_with_warmup\" \\\n",
        "  --lr_warmup_steps=100 \\\n",
        "  --learning_rate=\"{learning_rate}\" \\\n",
        "  --learning_rate_te1=\"{learning_rate_te1}\" \\\n",
        "  --learning_rate_te2=\"{learning_rate_te2}\" \\\n",
        "  --max_grad_norm=0.0 \\\n",
        "  --train_text_encoder \\\n",
        "  --resolution=\"512,512\" \\\n",
        "  --save_precision=\"fp16\" \\\n",
        "  --save_n_epoch_ratio=1 \\\n",
        "  --max_data_loader_n_workers=1 \\\n",
        "  --persistent_data_loader_workers \\\n",
        "  --mixed_precision=\"fp16\" \\\n",
        "  --full_bf16 \\\n",
        "  --logging_dir=\"logs\" \\\n",
        "  --log_prefix=\"last\" \\\n",
        "  --gradient_checkpointing \\\n",
        "  --min_snr_gamma=0 \\\n",
        "  --noise_offset=0.0357 \\\n",
        "  --sample_sampler=\"euler_a\" \\\n",
        "  --sample_prompts=\"prompt.txt\" \\\n",
        "  --sample_every_n_steps=100\n",
        "\n",
        "# Training finished...\n",
        "# List all checkpoints\n",
        "print(\"Trained models:\\n\")\n",
        "!ls trained_models -1"
      ],
      "metadata": {
        "colab": {
          "base_uri": "https://localhost:8080/"
        },
        "id": "bt1J_GbKoovc",
        "outputId": "f527eecf-6c11-40a2-9ee4-c40b719a05c2"
      },
      "execution_count": null,
      "outputs": [
        {
          "output_type": "stream",
          "name": "stdout",
          "text": [
            "/content/training_models/sd_xl_base_1.0_0.9vae.safetensors\n",
            "2023-12-25 16:58:04.590835: E external/local_xla/xla/stream_executor/cuda/cuda_dnn.cc:9261] Unable to register cuDNN factory: Attempting to register factory for plugin cuDNN when one has already been registered\n",
            "2023-12-25 16:58:04.590892: E external/local_xla/xla/stream_executor/cuda/cuda_fft.cc:607] Unable to register cuFFT factory: Attempting to register factory for plugin cuFFT when one has already been registered\n",
            "2023-12-25 16:58:04.592252: E external/local_xla/xla/stream_executor/cuda/cuda_blas.cc:1515] Unable to register cuBLAS factory: Attempting to register factory for plugin cuBLAS when one has already been registered\n",
            "2023-12-25 16:58:06.028239: W tensorflow/compiler/tf2tensorrt/utils/py_utils.cc:38] TF-TRT Warning: Could not find TensorRT\n",
            "prepare tokenizers\n",
            "Using DreamBooth method.\n",
            "ignore directory without repeats / 繰り返し回数のないディレクトリを無視します: .ipynb_checkpoints\n",
            "ignore directory without repeats / 繰り返し回数のないディレクトリを無視します: .ipynb_checkpoints\n",
            "prepare images.\n",
            "found directory /content/kohya_ss/training/training_images/40_ohwx woman contains 96 image files\n",
            "No caption file found for 96 images. Training will continue without captions for these images. If class token exists, it will be used. / 96枚の画像にキャプションファイルが見つかりませんでした。これらの画像についてはキャプションなしで学習を続行します。class tokenが存在する場合はそれを使います。\n",
            "/content/kohya_ss/training/training_images/40_ohwx woman/natd (1).jpg\n",
            "/content/kohya_ss/training/training_images/40_ohwx woman/natd (10).jpg\n",
            "/content/kohya_ss/training/training_images/40_ohwx woman/natd (11).jpg\n",
            "/content/kohya_ss/training/training_images/40_ohwx woman/natd (12).jpg\n",
            "/content/kohya_ss/training/training_images/40_ohwx woman/natd (13).jpg\n",
            "/content/kohya_ss/training/training_images/40_ohwx woman/natd (14).jpg... and 91 more\n",
            "found directory /content/kohya_ss/training/reg_images/1_woman contains 5000 image files\n",
            "No caption file found for 5000 images. Training will continue without captions for these images. If class token exists, it will be used. / 5000枚の画像にキャプションファイルが見つかりませんでした。これらの画像についてはキャプションなしで学習を続行します。class tokenが存在する場合はそれを使います。\n",
            "/content/kohya_ss/training/reg_images/1_woman/woman_0001.jpg\n",
            "/content/kohya_ss/training/reg_images/1_woman/woman_0002.jpg\n",
            "/content/kohya_ss/training/reg_images/1_woman/woman_0003.jpg\n",
            "/content/kohya_ss/training/reg_images/1_woman/woman_0004.jpg\n",
            "/content/kohya_ss/training/reg_images/1_woman/woman_0005.jpg\n",
            "/content/kohya_ss/training/reg_images/1_woman/woman_0006.jpg... and 4995 more\n",
            "3840 train images with repeating.\n",
            "5000 reg images.\n",
            "some of reg images are not used / 正則化画像の数が多いので、一部使用されない正則化画像があります\n",
            "[Dataset 0]\n",
            "  batch_size: 2\n",
            "  resolution: (512, 512)\n",
            "  enable_bucket: False\n",
            "\n",
            "  [Subset 0 of Dataset 0]\n",
            "    image_dir: \"/content/kohya_ss/training/training_images/40_ohwx woman\"\n",
            "    image_count: 96\n",
            "    num_repeats: 40\n",
            "    shuffle_caption: False\n",
            "    keep_tokens: 0\n",
            "    caption_dropout_rate: 0.0\n",
            "    caption_dropout_every_n_epoches: 0\n",
            "    caption_tag_dropout_rate: 0.0\n",
            "    caption_prefix: None\n",
            "    caption_suffix: None\n",
            "    color_aug: False\n",
            "    flip_aug: False\n",
            "    face_crop_aug_range: None\n",
            "    random_crop: False\n",
            "    token_warmup_min: 1,\n",
            "    token_warmup_step: 0,\n",
            "    is_reg: False\n",
            "    class_tokens: ohwx woman\n",
            "    caption_extension: .caption\n",
            "\n",
            "  [Subset 1 of Dataset 0]\n",
            "    image_dir: \"/content/kohya_ss/training/reg_images/1_woman\"\n",
            "    image_count: 5000\n",
            "    num_repeats: 1\n",
            "    shuffle_caption: False\n",
            "    keep_tokens: 0\n",
            "    caption_dropout_rate: 0.0\n",
            "    caption_dropout_every_n_epoches: 0\n",
            "    caption_tag_dropout_rate: 0.0\n",
            "    caption_prefix: None\n",
            "    caption_suffix: None\n",
            "    color_aug: False\n",
            "    flip_aug: False\n",
            "    face_crop_aug_range: None\n",
            "    random_crop: False\n",
            "    token_warmup_min: 1,\n",
            "    token_warmup_step: 0,\n",
            "    is_reg: True\n",
            "    class_tokens: woman\n",
            "    caption_extension: .caption\n",
            "\n",
            "\n",
            "[Dataset 0]\n",
            "loading image sizes.\n",
            "100% 3936/3936 [00:00<00:00, 15249.06it/s]\n",
            "prepare dataset\n",
            "prepare accelerator\n",
            "Traceback (most recent call last):\n",
            "  File \"/content/kohya_ss/sdxl_train.py\", line 775, in <module>\n",
            "    train(args)\n",
            "  File \"/content/kohya_ss/sdxl_train.py\", line 209, in train\n",
            "    ) = sdxl_train_util.load_target_model(args, accelerator, \"sdxl\", weight_dtype)\n",
            "  File \"/content/kohya_ss/library/sdxl_train_util.py\", line 21, in load_target_model\n",
            "    model_dtype = match_mixed_precision(args, weight_dtype)  # prepare fp16/bf16\n",
            "  File \"/content/kohya_ss/library/sdxl_train_util.py\", line 169, in match_mixed_precision\n",
            "    weight_dtype == torch.bfloat16\n",
            "AssertionError: full_bf16 requires mixed precision='bf16' / full_bf16を使う場合はmixed_precision='bf16'を指定してください。\n",
            "Traceback (most recent call last):\n",
            "  File \"/usr/local/bin/accelerate\", line 8, in <module>\n",
            "    sys.exit(main())\n",
            "  File \"/usr/local/lib/python3.10/dist-packages/accelerate/commands/accelerate_cli.py\", line 47, in main\n",
            "    args.func(args)\n",
            "  File \"/usr/local/lib/python3.10/dist-packages/accelerate/commands/launch.py\", line 1017, in launch_command\n",
            "    simple_launcher(args)\n",
            "  File \"/usr/local/lib/python3.10/dist-packages/accelerate/commands/launch.py\", line 637, in simple_launcher\n",
            "    raise subprocess.CalledProcessError(returncode=process.returncode, cmd=cmd)\n",
            "subprocess.CalledProcessError: Command '['/usr/bin/python3', '/content/kohya_ss/sdxl_train.py', '--pretrained_model_name_or_path=/content/training_models/sd_xl_base_1.0_0.9vae.safetensors', '--train_data_dir=/content/kohya_ss/training/training_images', '--reg_data_dir=/content/kohya_ss/training/reg_images', '--output_dir=/content/kohya_ss/trained_models', '--output_name=myProject', '--save_model_as=safetensors', '--train_batch_size=2', '--max_train_steps=7500', '--save_every_n_steps=1000', '--optimizer_type=adafactor', '--optimizer_args', 'scale_parameter=False', 'relative_step=False', 'warmup_init=False', '--xformers', '--cache_latents', '--lr_scheduler=constant_with_warmup', '--lr_warmup_steps=100', '--learning_rate=1e-05', '--learning_rate_te1=1e-07', '--learning_rate_te2=1e-07', '--max_grad_norm=0.0', '--train_text_encoder', '--resolution=512,512', '--save_precision=fp16', '--save_n_epoch_ratio=1', '--max_data_loader_n_workers=1', '--persistent_data_loader_workers', '--mixed_precision=fp16', '--full_bf16', '--logging_dir=logs', '--log_prefix=last', '--gradient_checkpointing', '--min_snr_gamma=0', '--noise_offset=0.0357', '--sample_sampler=euler_a', '--sample_prompts=prompt.txt', '--sample_every_n_steps=100']' returned non-zero exit status 1.\n",
            "Trained models:\n",
            "\n"
          ]
        }
      ]
    },
    {
      "cell_type": "code",
      "source": [],
      "metadata": {
        "id": "hgJuhnB6pxDR"
      },
      "execution_count": null,
      "outputs": []
    }
  ]
}