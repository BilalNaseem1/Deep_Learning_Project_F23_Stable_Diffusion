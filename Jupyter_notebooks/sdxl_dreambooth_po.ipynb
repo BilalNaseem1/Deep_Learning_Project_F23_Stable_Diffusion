{
  "nbformat": 4,
  "nbformat_minor": 0,
  "metadata": {
    "colab": {
      "provenance": [],
      "gpuType": "T4"
    },
    "kernelspec": {
      "name": "python3",
      "display_name": "Python 3"
    },
    "language_info": {
      "name": "python"
    },
    "accelerator": "GPU",
    "widgets": {
      "application/vnd.jupyter.widget-state+json": {
        "05f304c203804ff097693fc85ca6a683": {
          "model_module": "@jupyter-widgets/controls",
          "model_name": "HBoxModel",
          "model_module_version": "1.5.0",
          "state": {
            "_dom_classes": [],
            "_model_module": "@jupyter-widgets/controls",
            "_model_module_version": "1.5.0",
            "_model_name": "HBoxModel",
            "_view_count": null,
            "_view_module": "@jupyter-widgets/controls",
            "_view_module_version": "1.5.0",
            "_view_name": "HBoxView",
            "box_style": "",
            "children": [
              "IPY_MODEL_9aba6aeeaaed4505a0b4cc641960b7ea",
              "IPY_MODEL_cc54512fa8294bb090daaf4136a611af",
              "IPY_MODEL_dc45ee0274b446fca688d74e8004ad8c"
            ],
            "layout": "IPY_MODEL_c4996c8cfbfc4aabbfc0e5bee96db049"
          }
        },
        "9aba6aeeaaed4505a0b4cc641960b7ea": {
          "model_module": "@jupyter-widgets/controls",
          "model_name": "HTMLModel",
          "model_module_version": "1.5.0",
          "state": {
            "_dom_classes": [],
            "_model_module": "@jupyter-widgets/controls",
            "_model_module_version": "1.5.0",
            "_model_name": "HTMLModel",
            "_view_count": null,
            "_view_module": "@jupyter-widgets/controls",
            "_view_module_version": "1.5.0",
            "_view_name": "HTMLView",
            "description": "",
            "description_tooltip": null,
            "layout": "IPY_MODEL_c223db4a909c41788be5242131cc3bf0",
            "placeholder": "​",
            "style": "IPY_MODEL_236c68f611b5440aa46d8197b9f5edf2",
            "value": "sd_xl_base_1.0_0.9vae.safetensors: 100%"
          }
        },
        "cc54512fa8294bb090daaf4136a611af": {
          "model_module": "@jupyter-widgets/controls",
          "model_name": "FloatProgressModel",
          "model_module_version": "1.5.0",
          "state": {
            "_dom_classes": [],
            "_model_module": "@jupyter-widgets/controls",
            "_model_module_version": "1.5.0",
            "_model_name": "FloatProgressModel",
            "_view_count": null,
            "_view_module": "@jupyter-widgets/controls",
            "_view_module_version": "1.5.0",
            "_view_name": "ProgressView",
            "bar_style": "success",
            "description": "",
            "description_tooltip": null,
            "layout": "IPY_MODEL_c1efa575bc20401aa0194a61dfa2b345",
            "max": 6938078334,
            "min": 0,
            "orientation": "horizontal",
            "style": "IPY_MODEL_fa4ec48a64f545e4a8bbd33806c595da",
            "value": 6938078334
          }
        },
        "dc45ee0274b446fca688d74e8004ad8c": {
          "model_module": "@jupyter-widgets/controls",
          "model_name": "HTMLModel",
          "model_module_version": "1.5.0",
          "state": {
            "_dom_classes": [],
            "_model_module": "@jupyter-widgets/controls",
            "_model_module_version": "1.5.0",
            "_model_name": "HTMLModel",
            "_view_count": null,
            "_view_module": "@jupyter-widgets/controls",
            "_view_module_version": "1.5.0",
            "_view_name": "HTMLView",
            "description": "",
            "description_tooltip": null,
            "layout": "IPY_MODEL_aa3b2d60bdea4d79a5d10944cc451c5c",
            "placeholder": "​",
            "style": "IPY_MODEL_59f6f92ce6ec46ebaa01cfa106c0124a",
            "value": " 6.94G/6.94G [00:55&lt;00:00, 126MB/s]"
          }
        },
        "c4996c8cfbfc4aabbfc0e5bee96db049": {
          "model_module": "@jupyter-widgets/base",
          "model_name": "LayoutModel",
          "model_module_version": "1.2.0",
          "state": {
            "_model_module": "@jupyter-widgets/base",
            "_model_module_version": "1.2.0",
            "_model_name": "LayoutModel",
            "_view_count": null,
            "_view_module": "@jupyter-widgets/base",
            "_view_module_version": "1.2.0",
            "_view_name": "LayoutView",
            "align_content": null,
            "align_items": null,
            "align_self": null,
            "border": null,
            "bottom": null,
            "display": null,
            "flex": null,
            "flex_flow": null,
            "grid_area": null,
            "grid_auto_columns": null,
            "grid_auto_flow": null,
            "grid_auto_rows": null,
            "grid_column": null,
            "grid_gap": null,
            "grid_row": null,
            "grid_template_areas": null,
            "grid_template_columns": null,
            "grid_template_rows": null,
            "height": null,
            "justify_content": null,
            "justify_items": null,
            "left": null,
            "margin": null,
            "max_height": null,
            "max_width": null,
            "min_height": null,
            "min_width": null,
            "object_fit": null,
            "object_position": null,
            "order": null,
            "overflow": null,
            "overflow_x": null,
            "overflow_y": null,
            "padding": null,
            "right": null,
            "top": null,
            "visibility": null,
            "width": null
          }
        },
        "c223db4a909c41788be5242131cc3bf0": {
          "model_module": "@jupyter-widgets/base",
          "model_name": "LayoutModel",
          "model_module_version": "1.2.0",
          "state": {
            "_model_module": "@jupyter-widgets/base",
            "_model_module_version": "1.2.0",
            "_model_name": "LayoutModel",
            "_view_count": null,
            "_view_module": "@jupyter-widgets/base",
            "_view_module_version": "1.2.0",
            "_view_name": "LayoutView",
            "align_content": null,
            "align_items": null,
            "align_self": null,
            "border": null,
            "bottom": null,
            "display": null,
            "flex": null,
            "flex_flow": null,
            "grid_area": null,
            "grid_auto_columns": null,
            "grid_auto_flow": null,
            "grid_auto_rows": null,
            "grid_column": null,
            "grid_gap": null,
            "grid_row": null,
            "grid_template_areas": null,
            "grid_template_columns": null,
            "grid_template_rows": null,
            "height": null,
            "justify_content": null,
            "justify_items": null,
            "left": null,
            "margin": null,
            "max_height": null,
            "max_width": null,
            "min_height": null,
            "min_width": null,
            "object_fit": null,
            "object_position": null,
            "order": null,
            "overflow": null,
            "overflow_x": null,
            "overflow_y": null,
            "padding": null,
            "right": null,
            "top": null,
            "visibility": null,
            "width": null
          }
        },
        "236c68f611b5440aa46d8197b9f5edf2": {
          "model_module": "@jupyter-widgets/controls",
          "model_name": "DescriptionStyleModel",
          "model_module_version": "1.5.0",
          "state": {
            "_model_module": "@jupyter-widgets/controls",
            "_model_module_version": "1.5.0",
            "_model_name": "DescriptionStyleModel",
            "_view_count": null,
            "_view_module": "@jupyter-widgets/base",
            "_view_module_version": "1.2.0",
            "_view_name": "StyleView",
            "description_width": ""
          }
        },
        "c1efa575bc20401aa0194a61dfa2b345": {
          "model_module": "@jupyter-widgets/base",
          "model_name": "LayoutModel",
          "model_module_version": "1.2.0",
          "state": {
            "_model_module": "@jupyter-widgets/base",
            "_model_module_version": "1.2.0",
            "_model_name": "LayoutModel",
            "_view_count": null,
            "_view_module": "@jupyter-widgets/base",
            "_view_module_version": "1.2.0",
            "_view_name": "LayoutView",
            "align_content": null,
            "align_items": null,
            "align_self": null,
            "border": null,
            "bottom": null,
            "display": null,
            "flex": null,
            "flex_flow": null,
            "grid_area": null,
            "grid_auto_columns": null,
            "grid_auto_flow": null,
            "grid_auto_rows": null,
            "grid_column": null,
            "grid_gap": null,
            "grid_row": null,
            "grid_template_areas": null,
            "grid_template_columns": null,
            "grid_template_rows": null,
            "height": null,
            "justify_content": null,
            "justify_items": null,
            "left": null,
            "margin": null,
            "max_height": null,
            "max_width": null,
            "min_height": null,
            "min_width": null,
            "object_fit": null,
            "object_position": null,
            "order": null,
            "overflow": null,
            "overflow_x": null,
            "overflow_y": null,
            "padding": null,
            "right": null,
            "top": null,
            "visibility": null,
            "width": null
          }
        },
        "fa4ec48a64f545e4a8bbd33806c595da": {
          "model_module": "@jupyter-widgets/controls",
          "model_name": "ProgressStyleModel",
          "model_module_version": "1.5.0",
          "state": {
            "_model_module": "@jupyter-widgets/controls",
            "_model_module_version": "1.5.0",
            "_model_name": "ProgressStyleModel",
            "_view_count": null,
            "_view_module": "@jupyter-widgets/base",
            "_view_module_version": "1.2.0",
            "_view_name": "StyleView",
            "bar_color": null,
            "description_width": ""
          }
        },
        "aa3b2d60bdea4d79a5d10944cc451c5c": {
          "model_module": "@jupyter-widgets/base",
          "model_name": "LayoutModel",
          "model_module_version": "1.2.0",
          "state": {
            "_model_module": "@jupyter-widgets/base",
            "_model_module_version": "1.2.0",
            "_model_name": "LayoutModel",
            "_view_count": null,
            "_view_module": "@jupyter-widgets/base",
            "_view_module_version": "1.2.0",
            "_view_name": "LayoutView",
            "align_content": null,
            "align_items": null,
            "align_self": null,
            "border": null,
            "bottom": null,
            "display": null,
            "flex": null,
            "flex_flow": null,
            "grid_area": null,
            "grid_auto_columns": null,
            "grid_auto_flow": null,
            "grid_auto_rows": null,
            "grid_column": null,
            "grid_gap": null,
            "grid_row": null,
            "grid_template_areas": null,
            "grid_template_columns": null,
            "grid_template_rows": null,
            "height": null,
            "justify_content": null,
            "justify_items": null,
            "left": null,
            "margin": null,
            "max_height": null,
            "max_width": null,
            "min_height": null,
            "min_width": null,
            "object_fit": null,
            "object_position": null,
            "order": null,
            "overflow": null,
            "overflow_x": null,
            "overflow_y": null,
            "padding": null,
            "right": null,
            "top": null,
            "visibility": null,
            "width": null
          }
        },
        "59f6f92ce6ec46ebaa01cfa106c0124a": {
          "model_module": "@jupyter-widgets/controls",
          "model_name": "DescriptionStyleModel",
          "model_module_version": "1.5.0",
          "state": {
            "_model_module": "@jupyter-widgets/controls",
            "_model_module_version": "1.5.0",
            "_model_name": "DescriptionStyleModel",
            "_view_count": null,
            "_view_module": "@jupyter-widgets/base",
            "_view_module_version": "1.2.0",
            "_view_name": "StyleView",
            "description_width": ""
          }
        }
      }
    }
  },
  "cells": [
    {
      "cell_type": "code",
      "source": [
        "from google.colab import drive\n",
        "drive.mount('/content/drive')"
      ],
      "metadata": {
        "colab": {
          "base_uri": "https://localhost:8080/"
        },
        "id": "XhCk2F7qC9IR",
        "outputId": "db2a9daa-6f93-4bfe-9cd5-0f11299008f7"
      },
      "execution_count": null,
      "outputs": [
        {
          "output_type": "stream",
          "name": "stdout",
          "text": [
            "Mounted at /content/drive\n"
          ]
        }
      ]
    },
    {
      "cell_type": "code",
      "execution_count": null,
      "metadata": {
        "id": "1fSVHJBY7v7s",
        "colab": {
          "base_uri": "https://localhost:8080/"
        },
        "outputId": "3c1f2479-6e37-4fe7-b081-931147dc3cd7"
      },
      "outputs": [
        {
          "output_type": "stream",
          "name": "stdout",
          "text": [
            "Cloning into 'kohya_ss'...\n",
            "remote: Enumerating objects: 9894, done.\u001b[K\n",
            "remote: Counting objects: 100% (2175/2175), done.\u001b[K\n",
            "remote: Compressing objects: 100% (172/172), done.\u001b[K\n",
            "remote: Total 9894 (delta 2083), reused 2031 (delta 2001), pack-reused 7719\u001b[K\n",
            "Receiving objects: 100% (9894/9894), 11.22 MiB | 19.60 MiB/s, done.\n",
            "Resolving deltas: 100% (6869/6869), done.\n",
            "--2023-12-19 07:47:22--  https://raw.githubusercontent.com/yushan777/kohya_ss_vastai/main/!sdxl_kohya_vastai_no_config.ipynb\n",
            "Resolving raw.githubusercontent.com (raw.githubusercontent.com)... 185.199.111.133, 185.199.108.133, 185.199.109.133, ...\n",
            "Connecting to raw.githubusercontent.com (raw.githubusercontent.com)|185.199.111.133|:443... connected.\n",
            "HTTP request sent, awaiting response... 200 OK\n",
            "Length: 16369 (16K) [text/plain]\n",
            "Saving to: ‘!sdxl_kohya_vastai_no_config.ipynb’\n",
            "\n",
            "!sdxl_kohya_vastai_ 100%[===================>]  15.99K  --.-KB/s    in 0.001s  \n",
            "\n",
            "2023-12-19 07:47:22 (21.2 MB/s) - ‘!sdxl_kohya_vastai_no_config.ipynb’ saved [16369/16369]\n",
            "\n"
          ]
        }
      ],
      "source": [
        "!git clone https://github.com/bmaltais/kohya_ss.git\n",
        "!wget https://raw.githubusercontent.com/yushan777/kohya_ss_vastai/main/!sdxl_kohya_vastai_no_config.ipynb\n",
        "!mv '!sdxl_kohya_vastai_no_config.ipynb' 'kohya_ss'"
      ]
    },
    {
      "cell_type": "code",
      "source": [
        "# 1. INSTALL DEPENDENCIES\n",
        "\n",
        "!wget https://raw.githubusercontent.com/yushan777/kohya_ss_vastai/main/colors.py -q\n",
        "from colors import bcolors\n",
        "from IPython.display import clear_output\n",
        "\n",
        "print(f\"{bcolors.BOLD}{bcolors.GREEN}Installing prerequisites...{bcolors.ENDC}\")\n",
        "!apt-get update -y && apt-get install -y -qq libgl1\n",
        "!sudo apt update -y && sudo apt install -y -qq python3-tk\n",
        "clear_output(wait=True)\n",
        "\n",
        "print(f\"{bcolors.BOLD}{bcolors.GREEN}Installing main dependencies - this will take a few minutes...{bcolors.ENDC}\")\n",
        "\n",
        "%pip install gdown\n",
        "!chmod +x setup.sh\n",
        "!./setup.sh\n",
        "\n",
        "print(f\"{bcolors.BOLD}{bcolors.GREEN}Finished installing dependencies.{bcolors.ENDC}\")\n"
      ],
      "metadata": {
        "colab": {
          "base_uri": "https://localhost:8080/"
        },
        "id": "yAEnOquk3Z--",
        "outputId": "aab09c3c-5e5a-49b8-b723-558c131fc91b"
      },
      "execution_count": null,
      "outputs": [
        {
          "output_type": "stream",
          "name": "stdout",
          "text": [
            "\u001b[1m\u001b[92mInstalling main dependencies - this will take a few minutes...\u001b[0m\n",
            "Requirement already satisfied: gdown in /usr/local/lib/python3.10/dist-packages (4.6.6)\n",
            "Requirement already satisfied: filelock in /usr/local/lib/python3.10/dist-packages (from gdown) (3.13.1)\n",
            "Requirement already satisfied: requests[socks] in /usr/local/lib/python3.10/dist-packages (from gdown) (2.31.0)\n",
            "Requirement already satisfied: six in /usr/local/lib/python3.10/dist-packages (from gdown) (1.16.0)\n",
            "Requirement already satisfied: tqdm in /usr/local/lib/python3.10/dist-packages (from gdown) (4.66.1)\n",
            "Requirement already satisfied: beautifulsoup4 in /usr/local/lib/python3.10/dist-packages (from gdown) (4.11.2)\n",
            "Requirement already satisfied: soupsieve>1.2 in /usr/local/lib/python3.10/dist-packages (from beautifulsoup4->gdown) (2.5)\n",
            "Requirement already satisfied: charset-normalizer<4,>=2 in /usr/local/lib/python3.10/dist-packages (from requests[socks]->gdown) (3.3.2)\n",
            "Requirement already satisfied: idna<4,>=2.5 in /usr/local/lib/python3.10/dist-packages (from requests[socks]->gdown) (3.6)\n",
            "Requirement already satisfied: urllib3<3,>=1.21.1 in /usr/local/lib/python3.10/dist-packages (from requests[socks]->gdown) (2.0.7)\n",
            "Requirement already satisfied: certifi>=2017.4.17 in /usr/local/lib/python3.10/dist-packages (from requests[socks]->gdown) (2023.11.17)\n",
            "Requirement already satisfied: PySocks!=1.5.7,>=1.5.6 in /usr/local/lib/python3.10/dist-packages (from requests[socks]->gdown) (1.7.1)\n",
            "chmod: cannot access 'setup.sh': No such file or directory\n",
            "/bin/bash: line 1: ./setup.sh: No such file or directory\n",
            "\u001b[1m\u001b[92mFinished installing dependencies.\u001b[0m\n"
          ]
        }
      ]
    },
    {
      "cell_type": "code",
      "source": [
        "# 2. Configure Accelerate With defaults and bf16 precision\n",
        "!accelerate config default --mixed_precision \"bf16\""
      ],
      "metadata": {
        "colab": {
          "base_uri": "https://localhost:8080/"
        },
        "id": "pXRCGLCE33s3",
        "outputId": "81714468-cb3f-4bf9-d9ac-153c081905e2"
      },
      "execution_count": null,
      "outputs": [
        {
          "output_type": "stream",
          "name": "stdout",
          "text": [
            "/bin/bash: line 1: accelerate: command not found\n"
          ]
        }
      ]
    },
    {
      "cell_type": "code",
      "source": [
        "# 3. VARIABLES\n",
        "# The following variables can be changed according to your project preferences\n",
        "token_word = \"ohwx\"\n",
        "class_word = \"panda\"\n",
        "training_repeats = 3\n",
        "training_root_dir = \"training_images\"\n",
        "regularization_root_dir = \"reg_images\"\n",
        "models_dir = \"training_models\"\n",
        "project_name = \"SDXL1\"\n",
        "output_dir = \"trained_models\""
      ],
      "metadata": {
        "id": "3rhumCVp39zx"
      },
      "execution_count": null,
      "outputs": []
    },
    {
      "cell_type": "code",
      "source": [
        "# 4. CREATE DATASET FOLDERS & MODEL FOLDER\n",
        "\n",
        "# ================================================================\n",
        "# your training and reg image subfolders will be named according to what is set in previous cell:\n",
        "# so if you stuck with the defaults, they would be for example :\n",
        "# \"training_images/40_ohwx person\"\n",
        "# \"reg_images/1_person\"\n",
        "training_dir = f'{training_root_dir}/{training_repeats}_{token_word} {class_word}'\n",
        "reg_dir = f'{regularization_root_dir}/1_{class_word}'\n",
        "\n",
        "# back to parent folder\n",
        "%cd /workspace/kohya_ss\n",
        "\n",
        "import os\n",
        "if os.path.exists(training_dir) == False:\n",
        "  os.makedirs(training_dir)\n",
        "  print(f'{training_dir} Created.')\n",
        "else:\n",
        "  print(f'{training_dir} already exists.')\n",
        "\n",
        "if os.path.exists(reg_dir) == False:\n",
        "  os.makedirs(reg_dir)\n",
        "  print(f'{reg_dir} Created.')\n",
        "else:\n",
        "  print(f'{reg_dir} already exists.')\n",
        "\n",
        "if os.path.exists(models_dir) == False:\n",
        "  os.makedirs(models_dir)\n",
        "  print(f'{models_dir} Created.')\n",
        "else:\n",
        "  print(f'{models_dir} already exists.')\n",
        "\n",
        "# Create prompt file use for samples during training.\n",
        "# first 2 prompts are the same but one has CFG=1 and the other CFG=7\n",
        "# if subject likeness is strong and regular even at CFG=1 then it is an good indicator that it is overfitted\n",
        "# third prompt is to check how well it responds to styling.\n",
        "lines = [\n",
        "    f\"a photo of {token_word} {class_word} --w 1024 --h 1024 --l 7, --s 20 --d 1234567890\\n\",\n",
        "    f\"a photo of {token_word} {class_word} --w 1024 --h 1024 --l 1, --s 20 --d 1234567890\\n\",\n",
        "    f\"a portrait of {token_word} {class_word} in the style of Rembrandt --w 1024 --h 1024 --l 6, --s 20 --d 1234567890\\n\"\n",
        "]\n",
        "\n",
        "# Create and write to the text file\n",
        "with open(\"prompt.txt\", \"w\") as file:\n",
        "    file.writelines(lines)\n",
        "\n",
        "print(\"File 'prompt.txt' has been created.\")"
      ],
      "metadata": {
        "colab": {
          "base_uri": "https://localhost:8080/"
        },
        "id": "ZGee0VA1Ectp",
        "outputId": "eed17047-becb-452b-e304-e5e3f9b9ff9a"
      },
      "execution_count": null,
      "outputs": [
        {
          "output_type": "stream",
          "name": "stdout",
          "text": [
            "[Errno 2] No such file or directory: '/workspace/kohya_ss'\n",
            "/content\n",
            "training_images/3_ohwx panda Created.\n",
            "reg_images/1_panda Created.\n",
            "training_models already exists.\n",
            "File 'prompt.txt' has been created.\n"
          ]
        }
      ]
    },
    {
      "cell_type": "code",
      "source": [
        "from google.colab import drive\n",
        "import os\n",
        "import shutil\n",
        "import zipfile\n",
        "\n",
        "# Mount your Google Drive\n",
        "drive.mount('/content/drive')\n",
        "\n",
        "# Your Google Drive path to the folder containing the training images\n",
        "drive_folder_path = '/content/drive/MyDrive/DL_Project/kungfu15shortlist'\n",
        "\n",
        "# Path to your training directory in Colab\n",
        "training_dir = '/content/training_images'\n",
        "\n",
        "# Create the training directory if it doesn't exist\n",
        "os.makedirs(training_dir, exist_ok=True)\n",
        "\n",
        "# Copy all files from the Drive folder to the local training directory\n",
        "for filename in os.listdir(drive_folder_path):\n",
        "    file_path = os.path.join(drive_folder_path, filename)\n",
        "    if os.path.isfile(file_path):\n",
        "        shutil.copy(file_path, training_dir)\n",
        "\n",
        "# Unzip images in the training directory\n",
        "for file in os.listdir(training_dir):\n",
        "    if file.endswith('.zip'):\n",
        "        with zipfile.ZipFile(os.path.join(training_dir, file), 'r') as zip_ref:\n",
        "            zip_ref.extractall(training_dir)\n",
        "        os.remove(os.path.join(training_dir, file))\n",
        "\n",
        "# Now your training images should be in the training directory\n"
      ],
      "metadata": {
        "colab": {
          "base_uri": "https://localhost:8080/"
        },
        "id": "Z62Rpp8-E7jr",
        "outputId": "cf3e20bc-49e6-49c7-9421-5cca7ab93c27"
      },
      "execution_count": null,
      "outputs": [
        {
          "output_type": "stream",
          "name": "stdout",
          "text": [
            "Drive already mounted at /content/drive; to attempt to forcibly remount, call drive.mount(\"/content/drive\", force_remount=True).\n"
          ]
        }
      ]
    },
    {
      "cell_type": "code",
      "source": [
        "from google.colab import drive\n",
        "import os\n",
        "import shutil\n",
        "import zipfile\n",
        "\n",
        "# Mount your Google Drive\n",
        "drive.mount('/content/drive')\n",
        "\n",
        "# Your Google Drive path to the folder containing the regular images\n",
        "drive_folder_path = '/content/drive/MyDrive/DL_Project/kungfu_classNew'\n",
        "\n",
        "# Path to your regular images directory in Colab\n",
        "reg_dir = '/content/reg_images'\n",
        "\n",
        "# Create the regular images directory if it doesn't exist\n",
        "os.makedirs(reg_dir, exist_ok=True)\n",
        "\n",
        "# Copy all files from the Drive folder to the local regular images directory\n",
        "for filename in os.listdir(drive_folder_path):\n",
        "    file_path = os.path.join(drive_folder_path, filename)\n",
        "    if os.path.isfile(file_path):\n",
        "        shutil.copy(file_path, reg_dir)\n",
        "\n",
        "# Unzip images in the regular images directory\n",
        "for file in os.listdir(reg_dir):\n",
        "    if file.endswith('.zip'):\n",
        "        with zipfile.ZipFile(os.path.join(reg_dir, file), 'r') as zip_ref:\n",
        "            zip_ref.extractall(reg_dir)\n",
        "        os.remove(os.path.join(reg_dir, file))\n",
        "\n",
        "# Now your regular images should be in the regular images directory\n"
      ],
      "metadata": {
        "colab": {
          "base_uri": "https://localhost:8080/"
        },
        "id": "PN4xYl_jFzdP",
        "outputId": "f2fb45b1-2565-4560-9dc8-3eb2d398373b"
      },
      "execution_count": null,
      "outputs": [
        {
          "output_type": "stream",
          "name": "stdout",
          "text": [
            "Drive already mounted at /content/drive; to attempt to forcibly remount, call drive.mount(\"/content/drive\", force_remount=True).\n"
          ]
        }
      ]
    },
    {
      "cell_type": "code",
      "source": [
        "# 7. Check Dataset Folders\n",
        "# ====================================================\n",
        "# remove any non-image files & warn if any additional folders exist\n",
        "import os\n",
        "import shutil\n",
        "from glob import glob\n",
        "folder_path = f'{training_dir}'\n",
        "\n",
        "# Get a list of all files in the folder\n",
        "files = glob(folder_path + '/*', recursive=False)\n",
        "\n",
        "# Iterate over the files and delete the ones that are not JPG or PNG\n",
        "for file_path in files:\n",
        "    if not (file_path.endswith('.jpg') or file_path.endswith('.png')):\n",
        "        if os.path.isfile(file_path):\n",
        "            os.remove(file_path)\n",
        "        elif os.path.isdir(file_path):\n",
        "            print(f'{bcolors.BOLD}{bcolors.RED} Unexpected folder: \\'{file_path}\\' was found in training images folder path.  Check and remove it.{bcolors.ENDC}')\n",
        "\n",
        "# force remove hidden .ipynb_checkpoints folder in images folder.\n",
        "if os.path.exists(f'{folder_path}/.ipynb_checkpoints'):\n",
        "    shutil.rmtree(f'{folder_path}/.ipynb_checkpoints')\n",
        "\n",
        "# ====================================================\n",
        "# delete any non-image files & warn if any additional folders\n",
        "\n",
        "folder_path = f'{reg_dir}'\n",
        "\n",
        "# Get a list of all files in the folder\n",
        "files = glob(folder_path + '/*', recursive=False)\n",
        "\n",
        "# Iterate over the files and delete the ones that are not JPG or PNG\n",
        "for file_path in files:\n",
        "    if not (file_path.endswith('.jpg') or file_path.endswith('.png')):\n",
        "        if os.path.isfile(file_path):\n",
        "            os.remove(file_path)\n",
        "        elif os.path.isdir(file_path):\n",
        "            print(f'{bcolors.BOLD}{bcolors.RED} Unexpected folder: \\'{file_path}\\' was found in training images folder path.  Check and remove it.{bcolors.ENDC}')\n",
        "\n",
        "# force remove hidden .ipynb_checkpoints folder in images folder.\n",
        "if os.path.exists(f'{folder_path}/.ipynb_checkpoints'):\n",
        "    shutil.rmtree(f'{folder_path}/.ipynb_checkpoints')"
      ],
      "metadata": {
        "colab": {
          "base_uri": "https://localhost:8080/"
        },
        "id": "7wx9kYyQIovF",
        "outputId": "2135d76b-49e1-497e-af21-01af0181acd2"
      },
      "execution_count": null,
      "outputs": [
        {
          "output_type": "stream",
          "name": "stdout",
          "text": [
            "\u001b[1m\u001b[91m Unexpected folder: '/content/training_images/3_ohwx panda' was found in training images folder path.  Check and remove it.\u001b[0m\n",
            "\u001b[1m\u001b[91m Unexpected folder: '/content/reg_images/1_panda' was found in training images folder path.  Check and remove it.\u001b[0m\n"
          ]
        }
      ]
    },
    {
      "cell_type": "code",
      "source": [
        "# 8. Download SDXL 1.0 (0.9VAE) base model (the one with 0.9vae baked in instead of 1.0vae\n",
        "from huggingface_hub import hf_hub_download\n",
        "\n",
        "# Specify the repository ID, the filename, and the desired download directory\n",
        "repo_id = 'stabilityai/stable-diffusion-xl-base-1.0'\n",
        "filename = 'sd_xl_base_1.0_0.9vae.safetensors'\n",
        "download_directory = 'training_models'\n",
        "\n",
        "# Download the file to the training_models dir, as a regular file (not symlink)\n",
        "base_model = hf_hub_download(repo_id=repo_id, filename=filename, local_dir=download_directory, local_dir_use_symlinks=False)\n",
        "print(base_model)\n"
      ],
      "metadata": {
        "colab": {
          "base_uri": "https://localhost:8080/",
          "height": 66,
          "referenced_widgets": [
            "05f304c203804ff097693fc85ca6a683",
            "9aba6aeeaaed4505a0b4cc641960b7ea",
            "cc54512fa8294bb090daaf4136a611af",
            "dc45ee0274b446fca688d74e8004ad8c",
            "c4996c8cfbfc4aabbfc0e5bee96db049",
            "c223db4a909c41788be5242131cc3bf0",
            "236c68f611b5440aa46d8197b9f5edf2",
            "c1efa575bc20401aa0194a61dfa2b345",
            "fa4ec48a64f545e4a8bbd33806c595da",
            "aa3b2d60bdea4d79a5d10944cc451c5c",
            "59f6f92ce6ec46ebaa01cfa106c0124a"
          ]
        },
        "id": "WmCN_0kTI3Bq",
        "outputId": "3ea8cfaa-0f45-47d1-d59e-5f47305fa027"
      },
      "execution_count": null,
      "outputs": [
        {
          "output_type": "display_data",
          "data": {
            "text/plain": [
              "sd_xl_base_1.0_0.9vae.safetensors:   0%|          | 0.00/6.94G [00:00<?, ?B/s]"
            ],
            "application/vnd.jupyter.widget-view+json": {
              "version_major": 2,
              "version_minor": 0,
              "model_id": "05f304c203804ff097693fc85ca6a683"
            }
          },
          "metadata": {}
        },
        {
          "output_type": "stream",
          "name": "stdout",
          "text": [
            "training_models/sd_xl_base_1.0_0.9vae.safetensors\n"
          ]
        }
      ]
    },
    {
      "cell_type": "code",
      "source": [
        "!pwd"
      ],
      "metadata": {
        "colab": {
          "base_uri": "https://localhost:8080/"
        },
        "id": "uil9GfMvLg1b",
        "outputId": "a7bf0abe-9f32-4029-d451-10989e242f50"
      },
      "execution_count": null,
      "outputs": [
        {
          "output_type": "stream",
          "name": "stdout",
          "text": [
            "/content\n"
          ]
        }
      ]
    },
    {
      "cell_type": "code",
      "source": [
        "%cd kohya_ss/"
      ],
      "metadata": {
        "colab": {
          "base_uri": "https://localhost:8080/"
        },
        "id": "jSkQJOjNLrTO",
        "outputId": "03a94dd5-0c09-45b0-a80b-de0b4e801966"
      },
      "execution_count": null,
      "outputs": [
        {
          "output_type": "stream",
          "name": "stdout",
          "text": [
            "/content/kohya_ss\n"
          ]
        }
      ]
    },
    {
      "cell_type": "code",
      "source": [
        "!pwd"
      ],
      "metadata": {
        "colab": {
          "base_uri": "https://localhost:8080/"
        },
        "id": "TIOv1p4gLu6d",
        "outputId": "e5150973-2b3c-44a7-8c70-da4c29a40071"
      },
      "execution_count": null,
      "outputs": [
        {
          "output_type": "stream",
          "name": "stdout",
          "text": [
            "/content/kohya_ss\n"
          ]
        }
      ]
    },
    {
      "cell_type": "code",
      "source": [
        "!pip install git+https://github.com/huggingface/diffusers\n",
        "!pip install -qq accelerate transformers ftfy"
      ],
      "metadata": {
        "colab": {
          "base_uri": "https://localhost:8080/"
        },
        "id": "lAXqZgi-MB1e",
        "outputId": "7426bb06-1dc2-465b-cd6d-bb68958e596f"
      },
      "execution_count": null,
      "outputs": [
        {
          "output_type": "stream",
          "name": "stdout",
          "text": [
            "Collecting git+https://github.com/huggingface/diffusers\n",
            "  Cloning https://github.com/huggingface/diffusers to /tmp/pip-req-build-0xycegz4\n",
            "  Running command git clone --filter=blob:none --quiet https://github.com/huggingface/diffusers /tmp/pip-req-build-0xycegz4\n",
            "  Resolved https://github.com/huggingface/diffusers to commit bf40d7d82a732a35e0f5b907e59064ee080cde9f\n",
            "  Installing build dependencies ... \u001b[?25l\u001b[?25hdone\n",
            "  Getting requirements to build wheel ... \u001b[?25l\u001b[?25hdone\n",
            "  Preparing metadata (pyproject.toml) ... \u001b[?25l\u001b[?25hdone\n",
            "Requirement already satisfied: importlib-metadata in /usr/local/lib/python3.10/dist-packages (from diffusers==0.25.0.dev0) (7.0.0)\n",
            "Requirement already satisfied: filelock in /usr/local/lib/python3.10/dist-packages (from diffusers==0.25.0.dev0) (3.13.1)\n",
            "Requirement already satisfied: huggingface-hub>=0.19.4 in /usr/local/lib/python3.10/dist-packages (from diffusers==0.25.0.dev0) (0.19.4)\n",
            "Requirement already satisfied: numpy in /usr/local/lib/python3.10/dist-packages (from diffusers==0.25.0.dev0) (1.23.5)\n",
            "Requirement already satisfied: regex!=2019.12.17 in /usr/local/lib/python3.10/dist-packages (from diffusers==0.25.0.dev0) (2023.6.3)\n",
            "Requirement already satisfied: requests in /usr/local/lib/python3.10/dist-packages (from diffusers==0.25.0.dev0) (2.31.0)\n",
            "Requirement already satisfied: safetensors>=0.3.1 in /usr/local/lib/python3.10/dist-packages (from diffusers==0.25.0.dev0) (0.4.1)\n",
            "Requirement already satisfied: Pillow in /usr/local/lib/python3.10/dist-packages (from diffusers==0.25.0.dev0) (9.4.0)\n",
            "Requirement already satisfied: fsspec>=2023.5.0 in /usr/local/lib/python3.10/dist-packages (from huggingface-hub>=0.19.4->diffusers==0.25.0.dev0) (2023.6.0)\n",
            "Requirement already satisfied: tqdm>=4.42.1 in /usr/local/lib/python3.10/dist-packages (from huggingface-hub>=0.19.4->diffusers==0.25.0.dev0) (4.66.1)\n",
            "Requirement already satisfied: pyyaml>=5.1 in /usr/local/lib/python3.10/dist-packages (from huggingface-hub>=0.19.4->diffusers==0.25.0.dev0) (6.0.1)\n",
            "Requirement already satisfied: typing-extensions>=3.7.4.3 in /usr/local/lib/python3.10/dist-packages (from huggingface-hub>=0.19.4->diffusers==0.25.0.dev0) (4.5.0)\n",
            "Requirement already satisfied: packaging>=20.9 in /usr/local/lib/python3.10/dist-packages (from huggingface-hub>=0.19.4->diffusers==0.25.0.dev0) (23.2)\n",
            "Requirement already satisfied: zipp>=0.5 in /usr/local/lib/python3.10/dist-packages (from importlib-metadata->diffusers==0.25.0.dev0) (3.17.0)\n",
            "Requirement already satisfied: charset-normalizer<4,>=2 in /usr/local/lib/python3.10/dist-packages (from requests->diffusers==0.25.0.dev0) (3.3.2)\n",
            "Requirement already satisfied: idna<4,>=2.5 in /usr/local/lib/python3.10/dist-packages (from requests->diffusers==0.25.0.dev0) (3.6)\n",
            "Requirement already satisfied: urllib3<3,>=1.21.1 in /usr/local/lib/python3.10/dist-packages (from requests->diffusers==0.25.0.dev0) (2.0.7)\n",
            "Requirement already satisfied: certifi>=2017.4.17 in /usr/local/lib/python3.10/dist-packages (from requests->diffusers==0.25.0.dev0) (2023.11.17)\n",
            "Building wheels for collected packages: diffusers\n",
            "  Building wheel for diffusers (pyproject.toml) ... \u001b[?25l\u001b[?25hdone\n",
            "  Created wheel for diffusers: filename=diffusers-0.25.0.dev0-py3-none-any.whl size=1833134 sha256=8ab79ab060b72f32e192181f0c6c60726686289dabc1b7de0534080f770cffc0\n",
            "  Stored in directory: /tmp/pip-ephem-wheel-cache-sav_2ttt/wheels/f7/7d/99/d361489e5762e3464b3811bc629e94cf5bf5ef44dd5c3c4d52\n",
            "Successfully built diffusers\n",
            "Installing collected packages: diffusers\n",
            "Successfully installed diffusers-0.25.0.dev0\n",
            "\u001b[2K     \u001b[90m━━━━━━━━━━━━━━━━━━━━━━━━━━━━━━━━━━━━━━━━\u001b[0m \u001b[32m265.7/265.7 kB\u001b[0m \u001b[31m5.6 MB/s\u001b[0m eta \u001b[36m0:00:00\u001b[0m\n",
            "\u001b[2K     \u001b[90m━━━━━━━━━━━━━━━━━━━━━━━━━━━━━━━━━━━━━━━━\u001b[0m \u001b[32m53.4/53.4 kB\u001b[0m \u001b[31m8.3 MB/s\u001b[0m eta \u001b[36m0:00:00\u001b[0m\n",
            "\u001b[?25h"
          ]
        }
      ]
    },
    {
      "cell_type": "code",
      "source": [
        "!pip install einops"
      ],
      "metadata": {
        "colab": {
          "base_uri": "https://localhost:8080/"
        },
        "id": "_XBKXHheNAA2",
        "outputId": "03d5a69d-e7a9-44f7-ab0d-d30319831c53"
      },
      "execution_count": null,
      "outputs": [
        {
          "output_type": "stream",
          "name": "stdout",
          "text": [
            "Collecting einops\n",
            "  Downloading einops-0.7.0-py3-none-any.whl (44 kB)\n",
            "\u001b[?25l     \u001b[90m━━━━━━━━━━━━━━━━━━━━━━━━━━━━━━━━━━━━━━━━\u001b[0m \u001b[32m0.0/44.6 kB\u001b[0m \u001b[31m?\u001b[0m eta \u001b[36m-:--:--\u001b[0m\r\u001b[2K     \u001b[90m━━━━━━━━━━━━━━━━━━━━━━━━━━━━━━━━━━━━━━━━\u001b[0m \u001b[32m44.6/44.6 kB\u001b[0m \u001b[31m1.2 MB/s\u001b[0m eta \u001b[36m0:00:00\u001b[0m\n",
            "\u001b[?25hInstalling collected packages: einops\n",
            "Successfully installed einops-0.7.0\n"
          ]
        }
      ]
    },
    {
      "cell_type": "code",
      "source": [
        "!pip install voluptuous\n"
      ],
      "metadata": {
        "colab": {
          "base_uri": "https://localhost:8080/"
        },
        "id": "ybpmVafiNOR2",
        "outputId": "9c60cd4c-adff-44e7-f9c6-612e553cad8b"
      },
      "execution_count": null,
      "outputs": [
        {
          "output_type": "stream",
          "name": "stdout",
          "text": [
            "Collecting voluptuous\n",
            "  Downloading voluptuous-0.14.1-py3-none-any.whl (30 kB)\n",
            "Installing collected packages: voluptuous\n",
            "Successfully installed voluptuous-0.14.1\n"
          ]
        }
      ]
    },
    {
      "cell_type": "code",
      "source": [
        "# 9. START TRAINING\n",
        "\n",
        "max_steps = 2000\n",
        "learning_rate = 1e-5\n",
        "learning_rate_te1 = 1e-7\n",
        "learning_rate_te2 = 1e-7\n",
        "save_every_n_steps = 1000\n",
        "\n",
        "print(base_model)\n",
        "!accelerate launch --num_cpu_threads_per_process=2 \"./sdxl_train.py\" \\\n",
        "  --pretrained_model_name_or_path=\"/content/kohya_ss/training_models/sd_xl_base_1.0_0.9vae.safetensors\" \\\n",
        "  --train_data_dir=\"/content/kohya_ss/training_images\" \\\n",
        "  --reg_data_dir=\"/content/kohya_ss/reg_images\" \\\n",
        "  --output_dir=\"/content/kohya_ss/trained_models\" \\\n",
        "  --output_name=\"{project_name}\" \\\n",
        "  --save_model_as=\"safetensors\" \\\n",
        "  --train_batch_size=2 \\\n",
        "  --max_train_steps={max_steps} \\\n",
        "  --save_every_n_steps={save_every_n_steps} \\\n",
        "  --optimizer_type=\"adafactor\" \\\n",
        "  --optimizer_args scale_parameter=False relative_step=False warmup_init=False \\\n",
        "  --xformers \\\n",
        "  --cache_latents \\\n",
        "  --lr_scheduler=\"constant_with_warmup\" \\\n",
        "  --lr_warmup_steps=100 \\\n",
        "  --learning_rate=\"{learning_rate}\" \\\n",
        "  --learning_rate_te1=\"{learning_rate_te1}\" \\\n",
        "  --learning_rate_te2=\"{learning_rate_te2}\" \\\n",
        "  --max_grad_norm=0.0 \\\n",
        "  --train_text_encoder \\\n",
        "  --resolution=\"512,512\" \\\n",
        "  --save_precision=\"bf16\" \\\n",
        "  --save_n_epoch_ratio=1 \\\n",
        "  --max_data_loader_n_workers=1 \\\n",
        "  --persistent_data_loader_workers \\\n",
        "  --mixed_precision=\"bf16\" \\\n",
        "  --full_bf16 \\\n",
        "  --logging_dir=\"logs\" \\\n",
        "  --log_prefix=\"last\" \\\n",
        "  --gradient_checkpointing \\\n",
        "  --min_snr_gamma=0 \\\n",
        "  --noise_offset=0.0357 \\\n",
        "  --sample_sampler=\"euler_a\" \\\n",
        "  --sample_prompts=\"prompt.txt\" \\\n",
        "  --sample_every_n_steps=100\n",
        "\n",
        "# Training finished...\n",
        "# List all checkpoints\n",
        "print(\"Trained models:\\n\")\n",
        "!ls trained_models -1"
      ],
      "metadata": {
        "colab": {
          "base_uri": "https://localhost:8080/"
        },
        "id": "PlEn6TD0JoTS",
        "outputId": "af93f91c-9483-47f1-c72a-265368b74274"
      },
      "execution_count": null,
      "outputs": [
        {
          "output_type": "stream",
          "name": "stdout",
          "text": [
            "training_models/sd_xl_base_1.0_0.9vae.safetensors\n",
            "The following values were not passed to `accelerate launch` and had defaults used instead:\n",
            "\t`--num_processes` was set to a value of `1`\n",
            "\t`--num_machines` was set to a value of `1`\n",
            "\t`--mixed_precision` was set to a value of `'no'`\n",
            "\t`--dynamo_backend` was set to a value of `'no'`\n",
            "To avoid this warning pass in values for each of the problematic parameters or run `accelerate config`.\n",
            "2023-12-19 08:35:00.568224: E external/local_xla/xla/stream_executor/cuda/cuda_dnn.cc:9261] Unable to register cuDNN factory: Attempting to register factory for plugin cuDNN when one has already been registered\n",
            "2023-12-19 08:35:00.568285: E external/local_xla/xla/stream_executor/cuda/cuda_fft.cc:607] Unable to register cuFFT factory: Attempting to register factory for plugin cuFFT when one has already been registered\n",
            "2023-12-19 08:35:00.569607: E external/local_xla/xla/stream_executor/cuda/cuda_blas.cc:1515] Unable to register cuBLAS factory: Attempting to register factory for plugin cuBLAS when one has already been registered\n",
            "2023-12-19 08:35:01.651377: W tensorflow/compiler/tf2tensorrt/utils/py_utils.cc:38] TF-TRT Warning: Could not find TensorRT\n",
            "prepare tokenizers\n",
            "tokenizer_config.json: 100% 905/905 [00:00<00:00, 4.57MB/s]\n",
            "vocab.json: 100% 961k/961k [00:00<00:00, 5.11MB/s]\n",
            "merges.txt: 100% 525k/525k [00:00<00:00, 52.0MB/s]\n",
            "special_tokens_map.json: 100% 389/389 [00:00<00:00, 2.36MB/s]\n",
            "tokenizer.json: 100% 2.22M/2.22M [00:00<00:00, 6.91MB/s]\n",
            "tokenizer_config.json: 100% 904/904 [00:00<00:00, 3.95MB/s]\n",
            "vocab.json: 100% 862k/862k [00:00<00:00, 4.44MB/s]\n",
            "merges.txt: 100% 525k/525k [00:00<00:00, 114MB/s]\n",
            "special_tokens_map.json: 100% 389/389 [00:00<00:00, 2.94MB/s]\n",
            "tokenizer.json: 100% 2.22M/2.22M [00:00<00:00, 9.03MB/s]\n",
            "Using DreamBooth method.\n",
            "ignore directory without repeats / 繰り返し回数のないディレクトリを無視します: .ipynb_checkpoints\n",
            "ignore directory without repeats / 繰り返し回数のないディレクトリを無視します: .ipynb_checkpoints\n",
            "prepare images.\n",
            "0 train images with repeating.\n",
            "0 reg images.\n",
            "no regularization images / 正則化画像が見つかりませんでした\n",
            "[Dataset 0]\n",
            "  batch_size: 2\n",
            "  resolution: (512, 512)\n",
            "  enable_bucket: False\n",
            "\n",
            "\n",
            "[Dataset 0]\n",
            "loading image sizes.\n",
            "0it [00:00, ?it/s]\n",
            "prepare dataset\n",
            "No data found. Please verify the metadata file and train_data_dir option. / 画像がありません。メタデータおよびtrain_data_dirオプションを確認してください。\n",
            "Trained models:\n",
            "\n"
          ]
        }
      ]
    },
    {
      "cell_type": "code",
      "source": [],
      "metadata": {
        "id": "sbkf4CJtKEo4"
      },
      "execution_count": null,
      "outputs": []
    }
  ]
}